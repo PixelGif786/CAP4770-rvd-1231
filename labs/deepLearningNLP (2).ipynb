{
  "cells": [
    {
      "cell_type": "code",
      "execution_count": 2,
      "metadata": {
        "colab": {
          "base_uri": "https://localhost:8080/"
        },
        "id": "hHAxGRCXb7X_",
        "outputId": "e5eb94c4-aff3-4100-ae33-513d12bb4ae9"
      },
      "outputs": [
        {
          "output_type": "stream",
          "name": "stdout",
          "text": [
            "Sat Apr 15 15:48:49 2023       \n",
            "+-----------------------------------------------------------------------------+\n",
            "| NVIDIA-SMI 525.85.12    Driver Version: 525.85.12    CUDA Version: 12.0     |\n",
            "|-------------------------------+----------------------+----------------------+\n",
            "| GPU  Name        Persistence-M| Bus-Id        Disp.A | Volatile Uncorr. ECC |\n",
            "| Fan  Temp  Perf  Pwr:Usage/Cap|         Memory-Usage | GPU-Util  Compute M. |\n",
            "|                               |                      |               MIG M. |\n",
            "|===============================+======================+======================|\n",
            "|   0  Tesla T4            Off  | 00000000:00:04.0 Off |                    0 |\n",
            "| N/A   62C    P8    10W /  70W |      0MiB / 15360MiB |      0%      Default |\n",
            "|                               |                      |                  N/A |\n",
            "+-------------------------------+----------------------+----------------------+\n",
            "                                                                               \n",
            "+-----------------------------------------------------------------------------+\n",
            "| Processes:                                                                  |\n",
            "|  GPU   GI   CI        PID   Type   Process name                  GPU Memory |\n",
            "|        ID   ID                                                   Usage      |\n",
            "|=============================================================================|\n",
            "|  No running processes found                                                 |\n",
            "+-----------------------------------------------------------------------------+\n"
          ]
        }
      ],
      "source": [
        "!nvidia-smi"
      ]
    },
    {
      "cell_type": "markdown",
      "metadata": {
        "id": "Omp4N9HXb-b4"
      },
      "source": [
        "\n",
        "# Deep Learning for Natural Language Processing\n",
        "\n",
        "Natural Language Processing (NLP) covers machine learning techniques dealing with text and includes\n",
        "\n",
        "* classification\n",
        "  * sentiment analyis (is this tweet a Pro-Biden or Anti-Biden one)\n",
        "  * stylometrics (was this typed suicide note really from the deceased or did the murderer write it [1](https://www.rosette.com/case-studies/alias/), [2](https://www.ncbi.nlm.nih.gov/pmc/articles/PMC3107011/)\n",
        "  * general classification (out of 40 topics, which is this article about)\n",
        "* question answering (building systems that can answer questions -- *What is the best treatment for hemangiosarcoma in dogs?*)\n",
        "* machine translation\n",
        "* speech recognition\n",
        "\n",
        "among many others. Deep Learning has led to tremendous improvements in all these areas of NLP. \n",
        "\n",
        "In this notebook, we are going to examine classification systems for textual information.\n",
        "\n",
        "\n"
      ]
    },
    {
      "cell_type": "markdown",
      "metadata": {
        "id": "Cm5JKEGBvFZH"
      },
      "source": [
        "\n",
        "## Analyzing and Classifying Text\n",
        "\n",
        "\n",
        "\n",
        "<img src=\"https://raw.githubusercontent.com/zacharski/ml-class/master/labs/pics/tiles.jpg\" width=\"500\"/>\n",
        "\n",
        "So far we have been dealing with **structured data**. Structured data is ... well ... structured. This means that an instance of our data has nice attributes that can be represented in a DataFrame or a table:\n",
        "\n",
        "make | mpg | cylinders | HP | 0-60 |\n",
        "---- | :---: | :---: | :---: | :---: |\n",
        "Fiat | 38 | 4 | 157   | 6.9 \n",
        "Ford F150 | 19 | 6 | 386 | 6.3 \n",
        "Mazda 3 | 37 | 4 | 155 |  7.5 \n",
        "Ford Escape | 27 | 4 | 245 | 7.1 \n",
        "Kia Soul | 31 | 4 | 164 | 8.5 \n",
        "\n",
        "The majority of data in the world is **unstructured**. Take text for example. Suppose I have a corpus of twitter posts from former president Donald Trump and the Dalai Lama and my goal is to create a classifier that takes a tweet and tells me if it was produced by Trump or the Dalai Lama:\n",
        "\n",
        "*The purpose of education is to build a happier society, we need a more holistic approach that promotes the practice of love and compassion.*\n",
        "\n",
        "*How low has President Obama gone to tapp my phones during the very sacred election*\n",
        "\n",
        "We might consider  the columns of a table to be things like *first word of the tweet*, *second word of the tweet* and so on:\n",
        "\n",
        "\n",
        "id | word 1 | word 2 | word 3 | word 4 |word 5 |word 6 | ... |\n",
        "---- | :---: | :---: | :---: | :---: | :---: |:---: |:---: |\n",
        "1 | The | purpose | of   | education |is | to | ...\n",
        "2 | How | low | has |President | Obama | gone | ...\n",
        "\n",
        "So we would be counting how many times the word *President* occurred as the fourth word of a tweet. **But that would be the wrong way to go**. First, the deep learning models we have developed so far require input of a specific length. For example, we resized our dog and cat images to a uniform 150x150 and because each image was a uniform size we could specify the input shape of our network to be ....\n",
        "\n",
        "```\n",
        "model.add(layers.Conv2D(32, (3, 3), activation='relu', input_shape=(150, 150, 3)))\n",
        "```\n",
        "\n",
        "But what should the input length be for tweets? Sometimes there are short, one-word, tweets like *nice*. The average length of a tweet is 30 characters so something like the six word *Today, Toaster is 10 years old.*  And the limit of course is 280 characters so...\n",
        "\n",
        "> Like anything else, life has a beginning and in due course must end. In between those two events the important goal should be to live meaningfully, not to create trouble for others. If we can do that, when the end comes, we can go feeling at peace.\n",
        "\n",
        "That's 47 words so maybe we can limit our input to 50 words and for shorter tweets we can pad them with blank words.  But there is another possibility ...\n",
        "\n",
        "### Bag of Words (bow)\n",
        "\n",
        "A more common way to represent text is to treat the text as an unordered set of words, which is called the **bag of words** approach. \n",
        "\n",
        "\n",
        "<img src=\"https://raw.githubusercontent.com/zacharski/ml-class/master/labs/pics/BagofWords.jpg\" width=\"350\"/>\n",
        "\n",
        "With the bag of words approach we count word occurrences and the features (what we might think of as columns) are the unique words. For example, we have a collection of Trump and Dalai Lama tweets and indicate whether the word occurred in the tweet or not. So we might get something like:\n",
        "\n",
        "id | a | the | compassion | love |sad |fake | rigged | ... |\n",
        "---- | :---: | :---: | :---: | :---: | :---: |:---: |:---: | :---:\n",
        "Trump_1 | 1 | 0 | 0   | 0 |1 | 1 | 1 |...\n",
        "Trump_2 | 1 | 1 | 0   | 0 | 0 | 1 | 1 |...\n",
        "DalaiLama_1 | 1 | 1 | 1 |1 | 0 | 0 | 0 | ...\n",
        "\n",
        "So, for example, in DalaiLama_1, in the text there was\n",
        "\n",
        "* an occurrence of *a*\n",
        "* an occurrence of *the*\n",
        "* an occurrence of *compassion*\n",
        "* an occurrence of *love*\n",
        "\n",
        "We don't know what order the words occurred in, we just know what words occurred in the tweet. This is the bag-of-words method. \n",
        "\n",
        "Instead of short text snippets like tweets, let's say we are analyzing speeches of Trump and the Dalai Lama. Maybe then we will count how many times they used each word. So something like:\n",
        "\n",
        "id | a | the | compassion | love |sad |fake | rigged | ... |\n",
        "---- | :---: | :---: | :---: | :---: | :---: |:---: |:---: | :---:\n",
        "Trump_1 | 52 | 25 | 0   | 0 |21 | 82 | 19 |...\n",
        "Trump_2 | 30 | 35 | 0   | 0 | 5 | 20 | 31 |...\n",
        "DalaiLama_1 | 60 | 271 | 27 |63 | 12 | 0 | 0 | ...\n",
        "\n",
        "Of course we are still faced with how many columns to make, representing the vocabulary size. We could limit it to the 10,000 most common words, for example.\n",
        "\n",
        "Once we have the text in this format we can use the standard deep learning classification techniques we used before.\n",
        "\n",
        "\n",
        "Converting **unstructured** text to something **structured** is a multistep process. Let's learn the bits before putting it together. And we will start with the last step first-- creating the bag of words.\n",
        "\n",
        "### Import Keras ...\n",
        "\n"
      ]
    },
    {
      "cell_type": "code",
      "execution_count": 3,
      "metadata": {
        "colab": {
          "base_uri": "https://localhost:8080/",
          "height": 36
        },
        "id": "-igfitKjuYru",
        "outputId": "3131755d-7a6c-4ca7-a45a-d85b76e9f2f0"
      },
      "outputs": [
        {
          "output_type": "execute_result",
          "data": {
            "text/plain": [
              "'2.12.0'"
            ],
            "application/vnd.google.colaboratory.intrinsic+json": {
              "type": "string"
            }
          },
          "metadata": {},
          "execution_count": 3
        }
      ],
      "source": [
        "import keras\n",
        "keras.__version__"
      ]
    },
    {
      "cell_type": "markdown",
      "metadata": {
        "id": "y1153Guw8wB_"
      },
      "source": [
        "### Some sample data"
      ]
    },
    {
      "cell_type": "code",
      "execution_count": 4,
      "metadata": {
        "colab": {
          "base_uri": "https://localhost:8080/"
        },
        "id": "u1mf095J8u_0",
        "outputId": "aa899ad1-10aa-45c2-80c2-56123225de54"
      },
      "outputs": [
        {
          "output_type": "execute_result",
          "data": {
            "text/plain": [
              "['How low has President Obama gone to tapp my phones during the very sacred election process. This is Nixon/Watergate. Obama bad (or sick) guy! Sad',\n",
              " 'Our wonderful new Healthcare Bill is now out for review and negotiation. ObamaCare is a complete and total disaster - is imploding fast! Sad',\n",
              " \"Don't let the FAKE NEWS tell you that there is big infighting in the Trump Admin. We are getting along great, and getting major things done!\",\n",
              " 'Russia talk is FAKE NEWS put out by the Dems, and played up by the media, in order to mask the big election defeat and the illegal leaks! Sad',\n",
              " 'The purpose of education is to build a happier society, we need a more holistic approach that promotes the practice of love and compassion.',\n",
              " 'Be a kind and compassionate person. This is the inner beauty that is a key factor to making a better world.',\n",
              " 'If our goal is a happier, more peaceful world in the future, only education will bring change.',\n",
              " 'Love and compassion are important, because they strengthen us. This is a source of hope']"
            ]
          },
          "metadata": {},
          "execution_count": 4
        }
      ],
      "source": [
        "trump1 = \"How low has President Obama gone to tapp my phones during the very sacred election process. This is Nixon/Watergate. Obama bad (or sick) guy! Sad\"\n",
        "trump2 = \"Our wonderful new Healthcare Bill is now out for review and negotiation. ObamaCare is a complete and total disaster - is imploding fast! Sad\"\n",
        "trump3 = \"Don't let the FAKE NEWS tell you that there is big infighting in the Trump Admin. We are getting along great, and getting major things done!\"\n",
        "trump4 = \"Russia talk is FAKE NEWS put out by the Dems, and played up by the media, in order to mask the big election defeat and the illegal leaks! Sad\"\n",
        "dalaiLama1 = \"The purpose of education is to build a happier society, we need a more holistic approach that promotes the practice of love and compassion.\"\n",
        "dalaiLama2 = \"Be a kind and compassionate person. This is the inner beauty that is a key factor to making a better world.\"\n",
        "dalaiLama3 = \"If our goal is a happier, more peaceful world in the future, only education will bring change.\"\n",
        "dalaiLama4 = \"Love and compassion are important, because they strengthen us. This is a source of hope\"\n",
        "tinyCorpus = [trump1, trump2, trump3, trump4, dalaiLama1, dalaiLama2, dalaiLama3, dalaiLama4]\n",
        "tinyCorpus"
      ]
    },
    {
      "cell_type": "markdown",
      "metadata": {
        "id": "y-y3dlin89du"
      },
      "source": [
        "### Create the bag of words"
      ]
    },
    {
      "cell_type": "code",
      "execution_count": 5,
      "metadata": {
        "colab": {
          "base_uri": "https://localhost:8080/"
        },
        "id": "LrWO8riu80Bm",
        "outputId": "4d8a492a-6eea-45c5-e73e-02616c69bab3"
      },
      "outputs": [
        {
          "output_type": "stream",
          "name": "stdout",
          "text": [
            "[0. 1. 1. 0. 0. 1. 1. 1. 0. 0. 0. 1. 1. 0. 0. 0. 0. 0. 0. 0. 0. 0. 0. 0.\n",
            " 0. 0. 0. 0. 1. 1. 1. 1. 1. 1. 1. 1. 1. 1. 1. 1. 1. 1. 1. 1. 1. 1. 0. 0.\n",
            " 0. 0. 0. 0. 0. 0. 0. 0. 0. 0. 0. 0. 0. 0. 0. 0. 0. 0. 0. 0. 0. 0. 0. 0.\n",
            " 0. 0. 0. 0. 0. 0. 0. 0. 0. 0. 0. 0. 0. 0. 0. 0. 0. 0. 0. 0. 0. 0. 0. 0.\n",
            " 0. 0. 0. 0. 0. 0. 0. 0. 0. 0. 0. 0. 0. 0. 0. 0. 0. 0. 0. 0. 0. 0. 0. 0.\n",
            " 0. 0. 0. 0. 0. 0. 0. 0. 0. 0. 0. 0. 0. 0. 0. 0. 0. 0. 0. 0. 0. 0. 0. 0.\n",
            " 0. 0. 0. 0. 0. 0. 0. 0. 0. 0. 0. 0. 0. 0. 0. 0. 0. 0. 0. 0. 0. 0. 0. 0.\n",
            " 0. 0. 0. 0. 0. 0. 0. 0. 0. 0. 0. 0. 0. 0. 0. 0. 0. 0. 0. 0. 0. 0. 0. 0.\n",
            " 0. 0. 0. 0. 0. 0. 0. 0.]\n",
            "Found 117 unique tokens.\n"
          ]
        }
      ],
      "source": [
        "from keras.preprocessing.text import Tokenizer\n",
        "tokenizer = Tokenizer(num_words=200)\n",
        "tokenizer.fit_on_texts(tinyCorpus)\n",
        "\n",
        "# Directly get the one-hot binary representations.\n",
        "# Note that other vectorization modes than one-hot encoding are supported!\n",
        "one_hot_results = tokenizer.texts_to_matrix(tinyCorpus, mode='binary')\n",
        "# let's look at an example of an encoding ...\n",
        "print(one_hot_results[0])\n",
        "\n",
        "\n",
        "# This is how you can recover the word index that was computed\n",
        "word_index = tokenizer.word_index\n",
        "print('Found %s unique tokens.' % len(word_index))"
      ]
    },
    {
      "cell_type": "markdown",
      "metadata": {
        "id": "p13Daqp__dfB"
      },
      "source": [
        "That was pretty easy. And now we have the texts in a form we can use for deep learning.\n",
        "\n",
        "Instead of the binary choice (a 1 if the word is present and a 0 if not) -- `mode='binary'` we can count how many occurrences of each word there were in the text by using `mode='count'`:\n"
      ]
    },
    {
      "cell_type": "code",
      "execution_count": 6,
      "metadata": {
        "colab": {
          "base_uri": "https://localhost:8080/"
        },
        "id": "GgOPTdZf_sBy",
        "outputId": "c93da689-d2b0-40a4-ff96-e8b9e48af315"
      },
      "outputs": [
        {
          "output_type": "stream",
          "name": "stdout",
          "text": [
            "[0. 0. 3. 2. 1. 0. 0. 1. 0. 0. 0. 0. 0. 1. 1. 0. 0. 0. 0. 0. 0. 0. 0. 0.\n",
            " 0. 0. 0. 0. 0. 0. 0. 0. 0. 0. 0. 0. 0. 0. 0. 0. 0. 0. 0. 0. 0. 0. 1. 1.\n",
            " 1. 1. 1. 1. 1. 1. 1. 1. 1. 1. 1. 1. 0. 0. 0. 0. 0. 0. 0. 0. 0. 0. 0. 0.\n",
            " 0. 0. 0. 0. 0. 0. 0. 0. 0. 0. 0. 0. 0. 0. 0. 0. 0. 0. 0. 0. 0. 0. 0. 0.\n",
            " 0. 0. 0. 0. 0. 0. 0. 0. 0. 0. 0. 0. 0. 0. 0. 0. 0. 0. 0. 0. 0. 0. 0. 0.\n",
            " 0. 0. 0. 0. 0. 0. 0. 0. 0. 0. 0. 0. 0. 0. 0. 0. 0. 0. 0. 0. 0. 0. 0. 0.\n",
            " 0. 0. 0. 0. 0. 0. 0. 0. 0. 0. 0. 0. 0. 0. 0. 0. 0. 0. 0. 0. 0. 0. 0. 0.\n",
            " 0. 0. 0. 0. 0. 0. 0. 0. 0. 0. 0. 0. 0. 0. 0. 0. 0. 0. 0. 0. 0. 0. 0. 0.\n",
            " 0. 0. 0. 0. 0. 0. 0. 0.]\n"
          ]
        }
      ],
      "source": [
        "one_hot_results = tokenizer.texts_to_matrix(tinyCorpus, mode='count')\n",
        "# let's look at an example of an encoding ...\n",
        "print(one_hot_results[1])"
      ]
    },
    {
      "cell_type": "markdown",
      "metadata": {
        "id": "skKDJALg_-Is"
      },
      "source": [
        "So in the first tweet:\n",
        "\n",
        "> 'Our wonderful new Healthcare Bill is now out for review and negotiation. ObamaCare is a complete and total disaster - is imploding fast! Sad',\n",
        "\n",
        "There were 3 occurrences of the word *is*, 2 of *and*, and so on as indicated in the first row above.\n",
        "\n",
        "How do we know what columns are associated with which words? We can use the word_index.\n",
        "\n"
      ]
    },
    {
      "cell_type": "code",
      "execution_count": 7,
      "metadata": {
        "colab": {
          "base_uri": "https://localhost:8080/"
        },
        "id": "HwaZVV8fAMnL",
        "outputId": "e73654a1-779f-406a-aa0f-fca1230f86fd"
      },
      "outputs": [
        {
          "output_type": "execute_result",
          "data": {
            "text/plain": [
              "[('the', 1),\n",
              " ('is', 2),\n",
              " ('and', 3),\n",
              " ('a', 4),\n",
              " ('to', 5),\n",
              " ('this', 6),\n",
              " ('sad', 7),\n",
              " ('that', 8),\n",
              " ('in', 9),\n",
              " ('of', 10),\n",
              " ('obama', 11),\n",
              " ('election', 12),\n",
              " ('our', 13),\n",
              " ('out', 14),\n",
              " ('fake', 15),\n",
              " ('news', 16),\n",
              " ('big', 17),\n",
              " ('we', 18),\n",
              " ('are', 19),\n",
              " ('getting', 20),\n",
              " ('by', 21),\n",
              " ('education', 22),\n",
              " ('happier', 23),\n",
              " ('more', 24),\n",
              " ('love', 25),\n",
              " ('compassion', 26),\n",
              " ('world', 27),\n",
              " ('how', 28),\n",
              " ('low', 29),\n",
              " ('has', 30),\n",
              " ('president', 31),\n",
              " ('gone', 32),\n",
              " ('tapp', 33),\n",
              " ('my', 34),\n",
              " ('phones', 35),\n",
              " ('during', 36),\n",
              " ('very', 37),\n",
              " ('sacred', 38),\n",
              " ('process', 39),\n",
              " ('nixon', 40),\n",
              " ('watergate', 41),\n",
              " ('bad', 42),\n",
              " ('or', 43),\n",
              " ('sick', 44),\n",
              " ('guy', 45),\n",
              " ('wonderful', 46),\n",
              " ('new', 47),\n",
              " ('healthcare', 48),\n",
              " ('bill', 49),\n",
              " ('now', 50),\n",
              " ('for', 51),\n",
              " ('review', 52),\n",
              " ('negotiation', 53),\n",
              " ('obamacare', 54),\n",
              " ('complete', 55),\n",
              " ('total', 56),\n",
              " ('disaster', 57),\n",
              " ('imploding', 58),\n",
              " ('fast', 59),\n",
              " (\"don't\", 60),\n",
              " ('let', 61),\n",
              " ('tell', 62),\n",
              " ('you', 63),\n",
              " ('there', 64),\n",
              " ('infighting', 65),\n",
              " ('trump', 66),\n",
              " ('admin', 67),\n",
              " ('along', 68),\n",
              " ('great', 69),\n",
              " ('major', 70),\n",
              " ('things', 71),\n",
              " ('done', 72),\n",
              " ('russia', 73),\n",
              " ('talk', 74),\n",
              " ('put', 75),\n",
              " ('dems', 76),\n",
              " ('played', 77),\n",
              " ('up', 78),\n",
              " ('media', 79),\n",
              " ('order', 80),\n",
              " ('mask', 81),\n",
              " ('defeat', 82),\n",
              " ('illegal', 83),\n",
              " ('leaks', 84),\n",
              " ('purpose', 85),\n",
              " ('build', 86),\n",
              " ('society', 87),\n",
              " ('need', 88),\n",
              " ('holistic', 89),\n",
              " ('approach', 90),\n",
              " ('promotes', 91),\n",
              " ('practice', 92),\n",
              " ('be', 93),\n",
              " ('kind', 94),\n",
              " ('compassionate', 95),\n",
              " ('person', 96),\n",
              " ('inner', 97),\n",
              " ('beauty', 98),\n",
              " ('key', 99),\n",
              " ('factor', 100),\n",
              " ('making', 101),\n",
              " ('better', 102),\n",
              " ('if', 103),\n",
              " ('goal', 104),\n",
              " ('peaceful', 105),\n",
              " ('future', 106),\n",
              " ('only', 107),\n",
              " ('will', 108),\n",
              " ('bring', 109),\n",
              " ('change', 110),\n",
              " ('important', 111),\n",
              " ('because', 112),\n",
              " ('they', 113),\n",
              " ('strengthen', 114),\n",
              " ('us', 115),\n",
              " ('source', 116),\n",
              " ('hope', 117)]"
            ]
          },
          "metadata": {},
          "execution_count": 7
        }
      ],
      "source": [
        "# tokenizer.word_index is a python dictionary containing the word as a key and the column as its value\n",
        "[(k, v) for k, v in sorted(tokenizer.word_index.items(), key=lambda item: item[1])]"
      ]
    },
    {
      "cell_type": "markdown",
      "metadata": {
        "id": "b-F8umxI-JnV"
      },
      "source": [
        "So, *the, is, and, a, to* are the words represented by the first five columns.\n",
        "\n",
        "\n",
        "# TF-IDF representation\n",
        "\n",
        "![](https://raw.githubusercontent.com/zacharski/ml-class/master/labs/pics/bigTFIDF.png)\n",
        "So far we looked at \n",
        "\n",
        "* a binary bag-of-words (whether or not the word was present in the text).\n",
        "* a raw count bag-of-words (counting how many occurrences of each word)\n",
        "\n",
        "There are several other approaches\n",
        "We could represent a document as a bag of words and their probabilities (`mode=\"freq\"`). For example, in *Tom Sawyer* 4.6% of the words are *the* and 0.95% are *Tom*. But the word *the* probably occurs in most novels with that frequency. So in some sense the word *the* is uninteresting. On the other hand *Tom* probably occurs much more frequently in *Tom Sawyer* than it does in *Moby Dick* and, in that way, it is a more interesting word. One way to discount words that occur evenly throughout our document collection is to use TF-IDF.  \n",
        "\n",
        "* TF: Term Frequency - each word uprated by how often the word occurs in the document.\n",
        "* IDF Inverse Document Frequency - how often the word appears in the entire corpus\n",
        "\n",
        "\n",
        "\n",
        "> TF-IDF was first proposed by Karen Sparck Jones as a heuristic--not having any theoretical foundation. Researchers since then have tried to justify this metric by relating it to probablistic theories and information theories. But these attempts have been problematic. Nevertheless, as we will see, this heuristic works quite well. \n",
        "\n",
        "The formula is\n",
        "\n",
        "### $$ tfidf(t, d) = tf(t,d) \\times idf(t) $$\n",
        "\n",
        "where *t* is the term (the word) and *d* is the document.\n",
        "\n",
        "To explain this I will use some made up data--the word counts of 5 emails (and for the sake of later computations let's assume that each email is 100 words long):\n",
        "\n",
        "id | the | sad | compassion |  \n",
        "----: | :---: | :---: | :---:\n",
        "1 | 3 | 0 | 1 \n",
        "2 | 3 | 0 | 0 \n",
        "3 | 4 | 0 | 0 \n",
        "4 | 3 | 2 | 0 \n",
        "5 | 3 | 0 | 2\n",
        "\n",
        "\n",
        "The intuition is this. Even though the word *the* occurs frequently in each email, it is unlikely to help us classify email because it occurs in **every** email. The words *sad* and *compassion* are more interesting as they don't occur uniformly in our collection. \n",
        "\n",
        "#### TF\n",
        "\n",
        "The TF part of TF-IDF refers to how often the word occurs in the document. There are a number of ways to define TF. The simplist is to use the raw count.  So for example, the TF of *the* in document 1 is 3 (the word *the* occurred 3 times in document 1). One problem with this approach is that the raw count is influenced by the length of the document. So if you in your 1,000 word essay on Tom Sachs use 50 occurrences of *the* and Jane in her 90,000 word Zen van life mystery novel use 4,5000 occurrences of *the*, it doesn't mean that Jane is a bigger fan of *the* than you are. Even though there is that disparity in the raw counts it is not a characteristic that will help us distinguish texts about Zen from those about Tom Sachs.  In both the 1,000 word essay and the 90,000 word book about 5% of the words are *the*. A popular measure of TF is to divide the number of occurrences of a word by the total words in the document. So the TF of the word *the* in both your 1,000 word essay and my novel would be .05\n",
        "\n",
        "\n",
        "\n",
        "\n",
        "#### IDF\n",
        "\n",
        "IDF is defined as:\n",
        "\n",
        "### $$ idf(t)=\\log\\frac{1+n_d}{1+df(d,t)}+ 1 $$\n",
        "\n",
        "$n_d$ is the total number of documents and $df(d,t)$ is how many documents the term *t* occurred in. \n",
        "\n",
        "So:\n",
        "\n",
        "### $$ idf(the)=\\log\\frac{1+5}{1+5}+ 1 =  1.5 $$\n",
        "\n",
        "### $$ idf(compassion)=\\log\\frac{1+5}{1+2}+ 1 = \\log{2} + 1 =  2 $$\n",
        "\n",
        "So, *the* in document 1 has a tf-idf of $.03 \\times 1.5 = 0.045$ and *compassion* has a tf-idf of $.01 \\times \\ 2 = 0.02$\n",
        "\n",
        "This is a fairly important concept to understand. I was asked about tf-idf in my oral exam to become a certified instructor at the Deep Learning Institute and fortunately I knew about it. \n",
        "\n",
        "It is also important to know that while it works well as a heuristic and has been around since the 70s, there really is no theoretical foundation to it. \n",
        "\n",
        "With all that as background, it is easy to convert a document collection into an array of TFIDF values:"
      ]
    },
    {
      "cell_type": "code",
      "execution_count": 8,
      "metadata": {
        "colab": {
          "base_uri": "https://localhost:8080/"
        },
        "id": "-KVXgJ3R9Pmf",
        "outputId": "11af96cd-7758-4a4f-ac86-94640fcc8db1"
      },
      "outputs": [
        {
          "output_type": "stream",
          "name": "stdout",
          "text": [
            "[0.         0.         1.33469384 1.29041528 0.84729786 0.\n",
            " 0.         1.09861229 0.         0.         0.         0.\n",
            " 0.         1.29928298 1.29928298 0.         0.         0.\n",
            " 0.         0.         0.         0.         0.         0.\n",
            " 0.         0.         0.         0.         0.         0.\n",
            " 0.         0.         0.         0.         0.         0.\n",
            " 0.         0.         0.         0.         0.         0.\n",
            " 0.         0.         0.         0.         1.60943791 1.60943791\n",
            " 1.60943791 1.60943791 1.60943791 1.60943791 1.60943791 1.60943791\n",
            " 1.60943791 1.60943791 1.60943791 1.60943791 1.60943791 1.60943791\n",
            " 0.         0.         0.         0.         0.         0.\n",
            " 0.         0.         0.         0.         0.         0.\n",
            " 0.         0.         0.         0.         0.         0.\n",
            " 0.         0.         0.         0.         0.         0.\n",
            " 0.         0.         0.         0.         0.         0.\n",
            " 0.         0.         0.         0.         0.         0.\n",
            " 0.         0.         0.         0.         0.         0.\n",
            " 0.         0.         0.         0.         0.         0.\n",
            " 0.         0.         0.         0.         0.         0.\n",
            " 0.         0.         0.         0.         0.         0.\n",
            " 0.         0.         0.         0.         0.         0.\n",
            " 0.         0.         0.         0.         0.         0.\n",
            " 0.         0.         0.         0.         0.         0.\n",
            " 0.         0.         0.         0.         0.         0.\n",
            " 0.         0.         0.         0.         0.         0.\n",
            " 0.         0.         0.         0.         0.         0.\n",
            " 0.         0.         0.         0.         0.         0.\n",
            " 0.         0.         0.         0.         0.         0.\n",
            " 0.         0.         0.         0.         0.         0.\n",
            " 0.         0.         0.         0.         0.         0.\n",
            " 0.         0.         0.         0.         0.         0.\n",
            " 0.         0.         0.         0.         0.         0.\n",
            " 0.         0.         0.         0.         0.         0.\n",
            " 0.         0.        ]\n"
          ]
        }
      ],
      "source": [
        "one_hot_results = tokenizer.texts_to_matrix(tinyCorpus, mode='tfidf')\n",
        "# let's look at an example of an encoding ...\n",
        "print(one_hot_results[1])"
      ]
    },
    {
      "cell_type": "markdown",
      "metadata": {
        "id": "NTRonUNXFZRj"
      },
      "source": [
        "Again, once we have this representation we can use the deep learning methods we already used.\n",
        "\n",
        "\n",
        "## An initial example - IMDB\n",
        "\n",
        "![](https://raw.githubusercontent.com/zacharski/ml-class/master/labs/pics/imdb.png)\n",
        "\n",
        "The Internet Movie DataBase consists of 50,000 movie reviews and contains an equal number of positive and negative reviews. The task of identifying the affect of a text (whether it is postive or negative, or how strongly someone feels about the topic) is called **sentiment analysis**. \n",
        "\n",
        "### Load the data"
      ]
    },
    {
      "cell_type": "code",
      "execution_count": 9,
      "metadata": {
        "colab": {
          "base_uri": "https://localhost:8080/"
        },
        "id": "xLDR_eiY1YCL",
        "outputId": "b088ca20-a95a-4138-838a-e395412b596c"
      },
      "outputs": [
        {
          "output_type": "stream",
          "name": "stdout",
          "text": [
            "--2023-04-15 15:48:56--  http://zacharski.org/files/courses/cs419/imdb.zip\n",
            "Resolving zacharski.org (zacharski.org)... 198.199.65.227\n",
            "Connecting to zacharski.org (zacharski.org)|198.199.65.227|:80... connected.\n",
            "HTTP request sent, awaiting response... 200 OK\n",
            "Length: 26559010 (25M) [application/zip]\n",
            "Saving to: ‘imdb.zip.2’\n",
            "\n",
            "imdb.zip.2          100%[===================>]  25.33M  21.3MB/s    in 1.2s    \n",
            "\n",
            "2023-04-15 15:48:58 (21.3 MB/s) - ‘imdb.zip.2’ saved [26559010/26559010]\n",
            "\n",
            "Archive:  imdb.zip\n",
            "replace imdb.csv? [y]es, [n]o, [A]ll, [N]one, [r]ename: N\n"
          ]
        }
      ],
      "source": [
        "!wget http://zacharski.org/files/courses/cs419/imdb.zip\n",
        "!unzip imdb.zip"
      ]
    },
    {
      "cell_type": "code",
      "execution_count": 10,
      "metadata": {
        "colab": {
          "base_uri": "https://localhost:8080/"
        },
        "id": "YLkosiEaRc2W",
        "outputId": "5abf84c7-8408-49ae-86a5-499699116376"
      },
      "outputs": [
        {
          "output_type": "stream",
          "name": "stdout",
          "text": [
            "total 154040\n",
            "-rw-r--r-- 1 root root  6641678 Oct 19 19:02 climate.csv\n",
            "-rw-r--r-- 1 root root  2589663 Apr 15 14:17 climateSentiment.csv.zip\n",
            "-rw-r--r-- 1 root root  2589663 Apr 15 14:41 climateSentiment.csv.zip.1\n",
            "-rw-r--r-- 1 root root 66212309 Oct 31  2020 imdb.csv\n",
            "-rw-r--r-- 1 root root 26559010 Oct 31  2020 imdb.zip\n",
            "-rw-r--r-- 1 root root 26559010 Oct 31  2020 imdb.zip.1\n",
            "-rw-r--r-- 1 root root 26559010 Oct 31  2020 imdb.zip.2\n",
            "drwxr-xr-x 1 root root     4096 Apr 13 13:30 sample_data\n"
          ]
        }
      ],
      "source": [
        "!ls -l"
      ]
    },
    {
      "cell_type": "markdown",
      "metadata": {
        "id": "dAnWmyR3rgK6"
      },
      "source": [
        "The zip file only contained one file so we could have read it directly.  Since we already unzipped it let's use the unzipped version."
      ]
    },
    {
      "cell_type": "code",
      "execution_count": 11,
      "metadata": {
        "colab": {
          "base_uri": "https://localhost:8080/",
          "height": 424
        },
        "id": "T0tpCqv_BkWF",
        "outputId": "c1c666fd-64d4-4289-df77-da6b7081a8ff"
      },
      "outputs": [
        {
          "output_type": "execute_result",
          "data": {
            "text/plain": [
              "                                                  review sentiment\n",
              "0      One of the other reviewers has mentioned that ...  positive\n",
              "1      A wonderful little production. <br /><br />The...  positive\n",
              "2      I thought this was a wonderful way to spend ti...  positive\n",
              "3      Basically there's a family where a little boy ...  negative\n",
              "4      Petter Mattei's \"Love in the Time of Money\" is...  positive\n",
              "...                                                  ...       ...\n",
              "49995  I thought this movie did a down right good job...  positive\n",
              "49996  Bad plot, bad dialogue, bad acting, idiotic di...  negative\n",
              "49997  I am a Catholic taught in parochial elementary...  negative\n",
              "49998  I'm going to have to disagree with the previou...  negative\n",
              "49999  No one expects the Star Trek movies to be high...  negative\n",
              "\n",
              "[50000 rows x 2 columns]"
            ],
            "text/html": [
              "\n",
              "  <div id=\"df-fe9d9fd6-6a4c-4694-af55-36ac692b36d0\">\n",
              "    <div class=\"colab-df-container\">\n",
              "      <div>\n",
              "<style scoped>\n",
              "    .dataframe tbody tr th:only-of-type {\n",
              "        vertical-align: middle;\n",
              "    }\n",
              "\n",
              "    .dataframe tbody tr th {\n",
              "        vertical-align: top;\n",
              "    }\n",
              "\n",
              "    .dataframe thead th {\n",
              "        text-align: right;\n",
              "    }\n",
              "</style>\n",
              "<table border=\"1\" class=\"dataframe\">\n",
              "  <thead>\n",
              "    <tr style=\"text-align: right;\">\n",
              "      <th></th>\n",
              "      <th>review</th>\n",
              "      <th>sentiment</th>\n",
              "    </tr>\n",
              "  </thead>\n",
              "  <tbody>\n",
              "    <tr>\n",
              "      <th>0</th>\n",
              "      <td>One of the other reviewers has mentioned that ...</td>\n",
              "      <td>positive</td>\n",
              "    </tr>\n",
              "    <tr>\n",
              "      <th>1</th>\n",
              "      <td>A wonderful little production. &lt;br /&gt;&lt;br /&gt;The...</td>\n",
              "      <td>positive</td>\n",
              "    </tr>\n",
              "    <tr>\n",
              "      <th>2</th>\n",
              "      <td>I thought this was a wonderful way to spend ti...</td>\n",
              "      <td>positive</td>\n",
              "    </tr>\n",
              "    <tr>\n",
              "      <th>3</th>\n",
              "      <td>Basically there's a family where a little boy ...</td>\n",
              "      <td>negative</td>\n",
              "    </tr>\n",
              "    <tr>\n",
              "      <th>4</th>\n",
              "      <td>Petter Mattei's \"Love in the Time of Money\" is...</td>\n",
              "      <td>positive</td>\n",
              "    </tr>\n",
              "    <tr>\n",
              "      <th>...</th>\n",
              "      <td>...</td>\n",
              "      <td>...</td>\n",
              "    </tr>\n",
              "    <tr>\n",
              "      <th>49995</th>\n",
              "      <td>I thought this movie did a down right good job...</td>\n",
              "      <td>positive</td>\n",
              "    </tr>\n",
              "    <tr>\n",
              "      <th>49996</th>\n",
              "      <td>Bad plot, bad dialogue, bad acting, idiotic di...</td>\n",
              "      <td>negative</td>\n",
              "    </tr>\n",
              "    <tr>\n",
              "      <th>49997</th>\n",
              "      <td>I am a Catholic taught in parochial elementary...</td>\n",
              "      <td>negative</td>\n",
              "    </tr>\n",
              "    <tr>\n",
              "      <th>49998</th>\n",
              "      <td>I'm going to have to disagree with the previou...</td>\n",
              "      <td>negative</td>\n",
              "    </tr>\n",
              "    <tr>\n",
              "      <th>49999</th>\n",
              "      <td>No one expects the Star Trek movies to be high...</td>\n",
              "      <td>negative</td>\n",
              "    </tr>\n",
              "  </tbody>\n",
              "</table>\n",
              "<p>50000 rows × 2 columns</p>\n",
              "</div>\n",
              "      <button class=\"colab-df-convert\" onclick=\"convertToInteractive('df-fe9d9fd6-6a4c-4694-af55-36ac692b36d0')\"\n",
              "              title=\"Convert this dataframe to an interactive table.\"\n",
              "              style=\"display:none;\">\n",
              "        \n",
              "  <svg xmlns=\"http://www.w3.org/2000/svg\" height=\"24px\"viewBox=\"0 0 24 24\"\n",
              "       width=\"24px\">\n",
              "    <path d=\"M0 0h24v24H0V0z\" fill=\"none\"/>\n",
              "    <path d=\"M18.56 5.44l.94 2.06.94-2.06 2.06-.94-2.06-.94-.94-2.06-.94 2.06-2.06.94zm-11 1L8.5 8.5l.94-2.06 2.06-.94-2.06-.94L8.5 2.5l-.94 2.06-2.06.94zm10 10l.94 2.06.94-2.06 2.06-.94-2.06-.94-.94-2.06-.94 2.06-2.06.94z\"/><path d=\"M17.41 7.96l-1.37-1.37c-.4-.4-.92-.59-1.43-.59-.52 0-1.04.2-1.43.59L10.3 9.45l-7.72 7.72c-.78.78-.78 2.05 0 2.83L4 21.41c.39.39.9.59 1.41.59.51 0 1.02-.2 1.41-.59l7.78-7.78 2.81-2.81c.8-.78.8-2.07 0-2.86zM5.41 20L4 18.59l7.72-7.72 1.47 1.35L5.41 20z\"/>\n",
              "  </svg>\n",
              "      </button>\n",
              "      \n",
              "  <style>\n",
              "    .colab-df-container {\n",
              "      display:flex;\n",
              "      flex-wrap:wrap;\n",
              "      gap: 12px;\n",
              "    }\n",
              "\n",
              "    .colab-df-convert {\n",
              "      background-color: #E8F0FE;\n",
              "      border: none;\n",
              "      border-radius: 50%;\n",
              "      cursor: pointer;\n",
              "      display: none;\n",
              "      fill: #1967D2;\n",
              "      height: 32px;\n",
              "      padding: 0 0 0 0;\n",
              "      width: 32px;\n",
              "    }\n",
              "\n",
              "    .colab-df-convert:hover {\n",
              "      background-color: #E2EBFA;\n",
              "      box-shadow: 0px 1px 2px rgba(60, 64, 67, 0.3), 0px 1px 3px 1px rgba(60, 64, 67, 0.15);\n",
              "      fill: #174EA6;\n",
              "    }\n",
              "\n",
              "    [theme=dark] .colab-df-convert {\n",
              "      background-color: #3B4455;\n",
              "      fill: #D2E3FC;\n",
              "    }\n",
              "\n",
              "    [theme=dark] .colab-df-convert:hover {\n",
              "      background-color: #434B5C;\n",
              "      box-shadow: 0px 1px 3px 1px rgba(0, 0, 0, 0.15);\n",
              "      filter: drop-shadow(0px 1px 2px rgba(0, 0, 0, 0.3));\n",
              "      fill: #FFFFFF;\n",
              "    }\n",
              "  </style>\n",
              "\n",
              "      <script>\n",
              "        const buttonEl =\n",
              "          document.querySelector('#df-fe9d9fd6-6a4c-4694-af55-36ac692b36d0 button.colab-df-convert');\n",
              "        buttonEl.style.display =\n",
              "          google.colab.kernel.accessAllowed ? 'block' : 'none';\n",
              "\n",
              "        async function convertToInteractive(key) {\n",
              "          const element = document.querySelector('#df-fe9d9fd6-6a4c-4694-af55-36ac692b36d0');\n",
              "          const dataTable =\n",
              "            await google.colab.kernel.invokeFunction('convertToInteractive',\n",
              "                                                     [key], {});\n",
              "          if (!dataTable) return;\n",
              "\n",
              "          const docLinkHtml = 'Like what you see? Visit the ' +\n",
              "            '<a target=\"_blank\" href=https://colab.research.google.com/notebooks/data_table.ipynb>data table notebook</a>'\n",
              "            + ' to learn more about interactive tables.';\n",
              "          element.innerHTML = '';\n",
              "          dataTable['output_type'] = 'display_data';\n",
              "          await google.colab.output.renderOutput(dataTable, element);\n",
              "          const docLink = document.createElement('div');\n",
              "          docLink.innerHTML = docLinkHtml;\n",
              "          element.appendChild(docLink);\n",
              "        }\n",
              "      </script>\n",
              "    </div>\n",
              "  </div>\n",
              "  "
            ]
          },
          "metadata": {},
          "execution_count": 11
        }
      ],
      "source": [
        "import pandas as pd\n",
        "data = pd.read_csv('imdb.csv')\n",
        "data"
      ]
    },
    {
      "cell_type": "markdown",
      "metadata": {
        "id": "Eg97QeqW2KoT"
      },
      "source": [
        "Now let's separate the texts from the labels. Also note that the labels are the strings *positive* and *negative* so let's convert those to 1 and 0."
      ]
    },
    {
      "cell_type": "code",
      "execution_count": 12,
      "metadata": {
        "colab": {
          "base_uri": "https://localhost:8080/"
        },
        "id": "ql-GmhdXLShN",
        "outputId": "b2862b8f-5cde-4453-e304-834a03006916"
      },
      "outputs": [
        {
          "output_type": "execute_result",
          "data": {
            "text/plain": [
              "0        1\n",
              "1        1\n",
              "2        1\n",
              "3        0\n",
              "4        1\n",
              "        ..\n",
              "49995    1\n",
              "49996    0\n",
              "49997    0\n",
              "49998    0\n",
              "49999    0\n",
              "Name: sentiment, Length: 50000, dtype: int64"
            ]
          },
          "metadata": {},
          "execution_count": 12
        }
      ],
      "source": [
        "data_text = data.review\n",
        "data_label =data.sentiment\n",
        "data_label =  data['sentiment'].apply(lambda x: 1 if x == 'positive' else 0)\n",
        "data_label "
      ]
    },
    {
      "cell_type": "markdown",
      "metadata": {
        "id": "NXn9kHUb2cn1"
      },
      "source": [
        "### TFIDF\n",
        "Now we are going to convert the text represented as strings to a tfidf representation. \n",
        "\n",
        "Let's use the 5,000 most common words in the documents (`Tokenizer(num_words=5000)`)\n",
        "\n",
        "This will take a bit of time!"
      ]
    },
    {
      "cell_type": "code",
      "execution_count": 13,
      "metadata": {
        "colab": {
          "base_uri": "https://localhost:8080/"
        },
        "id": "XOjTzQdOJz-Z",
        "outputId": "b0ddb9d6-4926-4954-dc1f-4a93d3e16baa"
      },
      "outputs": [
        {
          "output_type": "stream",
          "name": "stdout",
          "text": [
            "[0.         2.63159248 1.98374445 ... 0.         0.         0.        ]\n"
          ]
        }
      ],
      "source": [
        "from keras.preprocessing.text import Tokenizer\n",
        "tokenizer = Tokenizer(num_words=5000)\n",
        "tokenizer.fit_on_texts(data_text)\n",
        "\n",
        "# Directly get the one-hot binary representations.\n",
        "# Note that other vectorization modes than one-hot encoding are supported!\n",
        "one_hot_results = tokenizer.texts_to_matrix(data_text, mode='tfidf')\n",
        "# let's look at an example of an encoding ...\n",
        "print(one_hot_results[0])"
      ]
    },
    {
      "cell_type": "markdown",
      "metadata": {
        "id": "dC35HHYgbUqW"
      },
      "source": [
        "###  Divide into training and test sets"
      ]
    },
    {
      "cell_type": "code",
      "execution_count": 14,
      "metadata": {
        "colab": {
          "base_uri": "https://localhost:8080/"
        },
        "id": "dbPLee2_MJEd",
        "outputId": "a6671d39-09de-476b-c100-b570d85a25f5"
      },
      "outputs": [
        {
          "output_type": "execute_result",
          "data": {
            "text/plain": [
              "33553    1\n",
              "9427     1\n",
              "199      0\n",
              "12447    1\n",
              "39489    0\n",
              "        ..\n",
              "28567    0\n",
              "25079    1\n",
              "18707    1\n",
              "15200    0\n",
              "5857     1\n",
              "Name: sentiment, Length: 10000, dtype: int64"
            ]
          },
          "metadata": {},
          "execution_count": 14
        }
      ],
      "source": [
        "from sklearn.model_selection import train_test_split\n",
        "imdb_train_text, imdb_test_text, imdb_train_labels, imdb_test_labels = train_test_split(one_hot_results, data_label, test_size = 0.2, random_state=42)\n",
        "imdb_test_labels\n"
      ]
    },
    {
      "cell_type": "markdown",
      "metadata": {
        "id": "04NGZqtVdOpF"
      },
      "source": [
        "### Build a deep learning model\n",
        "Let's go with a basic, no frills, model:"
      ]
    },
    {
      "cell_type": "code",
      "execution_count": 15,
      "metadata": {
        "colab": {
          "base_uri": "https://localhost:8080/",
          "height": 36
        },
        "id": "Lj35GJladKJs",
        "outputId": "b01e49e8-85d4-4e25-dc15-930d556d0387"
      },
      "outputs": [
        {
          "output_type": "execute_result",
          "data": {
            "text/plain": [
              "'2.12.0'"
            ],
            "application/vnd.google.colaboratory.intrinsic+json": {
              "type": "string"
            }
          },
          "metadata": {},
          "execution_count": 15
        }
      ],
      "source": [
        "import keras\n",
        "keras.__version__"
      ]
    },
    {
      "cell_type": "markdown",
      "metadata": {
        "id": "M3BxwR6u3YnG"
      },
      "source": [
        "In our tokenizer we specified a vocabulary size of 5,000 words, so that is our `input_shape`. We are trying to predict a binary 1,0 classification so we need \n",
        "\n",
        "```\n",
        "network.add(layers.Dense(1, activation='sigmoid'))\n",
        "```\n",
        "at the very end of our network. \n",
        "\n",
        "We would like a network with\n",
        "\n",
        "1. a dense layer with 512 nodes and input shape (5000,)\n",
        "2. a dense layer of 256\n",
        "3. A dense layer of 128\n",
        "4. A dense layer (the output layer) of 1 with the sigmoid activation function.\n"
      ]
    },
    {
      "cell_type": "code",
      "execution_count": 16,
      "metadata": {
        "id": "4Pb3pBO7dpS4"
      },
      "outputs": [],
      "source": [
        "from keras import models\n",
        "from keras import layers\n",
        "\n",
        "network = models.Sequential()\n",
        "network.add(layers.Dense(512, activation='relu', input_shape=(5000,)))\n",
        "network.add(layers.Dense(256, activation='relu'))\n",
        "network.add(layers.Dense(128, activation='relu'))\n",
        "network.add(layers.Dense(1, activation='sigmoid'))"
      ]
    },
    {
      "cell_type": "markdown",
      "metadata": {
        "id": "0tqZ-8UO30wu"
      },
      "source": [
        "Again, we are predicting a binary 1,0 classification (was it a positive review or not) so we will use `binary_crossentropy` as our loss function"
      ]
    },
    {
      "cell_type": "code",
      "execution_count": 17,
      "metadata": {
        "id": "nNchu2tmerGA"
      },
      "outputs": [],
      "source": [
        "from keras import optimizers\n",
        "network.compile(optimizer=optimizers.RMSprop(learning_rate=1e-4),\n",
        "                loss='binary_crossentropy',\n",
        "                metrics=['accuracy'])"
      ]
    },
    {
      "cell_type": "code",
      "execution_count": 18,
      "metadata": {
        "colab": {
          "base_uri": "https://localhost:8080/"
        },
        "id": "F5PiezmrexYS",
        "outputId": "be9dbaf7-3208-4261-e63b-a69dfa038ba2"
      },
      "outputs": [
        {
          "output_type": "stream",
          "name": "stdout",
          "text": [
            "Model: \"sequential\"\n",
            "_________________________________________________________________\n",
            " Layer (type)                Output Shape              Param #   \n",
            "=================================================================\n",
            " dense (Dense)               (None, 512)               2560512   \n",
            "                                                                 \n",
            " dense_1 (Dense)             (None, 256)               131328    \n",
            "                                                                 \n",
            " dense_2 (Dense)             (None, 128)               32896     \n",
            "                                                                 \n",
            " dense_3 (Dense)             (None, 1)                 129       \n",
            "                                                                 \n",
            "=================================================================\n",
            "Total params: 2,724,865\n",
            "Trainable params: 2,724,865\n",
            "Non-trainable params: 0\n",
            "_________________________________________________________________\n"
          ]
        }
      ],
      "source": [
        "network.summary()"
      ]
    },
    {
      "cell_type": "markdown",
      "metadata": {
        "id": "bTbirosf4JSO"
      },
      "source": [
        "### fitting to the data\n",
        "Now it is time to fit the network to the data. Let's use 20% of the data for validation and run for 30 epochs."
      ]
    },
    {
      "cell_type": "code",
      "execution_count": 19,
      "metadata": {
        "colab": {
          "base_uri": "https://localhost:8080/"
        },
        "id": "yEP-UYpIe2Vb",
        "outputId": "c87abdb3-30ba-4129-d16d-13e16648015a"
      },
      "outputs": [
        {
          "output_type": "stream",
          "name": "stdout",
          "text": [
            "Epoch 1/30\n",
            "100/100 [==============================] - 5s 15ms/step - loss: 0.4418 - accuracy: 0.8041 - val_loss: 0.3176 - val_accuracy: 0.8736\n",
            "Epoch 2/30\n",
            "100/100 [==============================] - 1s 8ms/step - loss: 0.2288 - accuracy: 0.9152 - val_loss: 0.2984 - val_accuracy: 0.8874\n",
            "Epoch 3/30\n",
            "100/100 [==============================] - 1s 8ms/step - loss: 0.1541 - accuracy: 0.9473 - val_loss: 0.3047 - val_accuracy: 0.8865\n",
            "Epoch 4/30\n",
            "100/100 [==============================] - 1s 8ms/step - loss: 0.1022 - accuracy: 0.9679 - val_loss: 0.3392 - val_accuracy: 0.8842\n",
            "Epoch 5/30\n",
            "100/100 [==============================] - 1s 8ms/step - loss: 0.0630 - accuracy: 0.9818 - val_loss: 0.3836 - val_accuracy: 0.8823\n",
            "Epoch 6/30\n",
            "100/100 [==============================] - 1s 8ms/step - loss: 0.0335 - accuracy: 0.9917 - val_loss: 0.4508 - val_accuracy: 0.8859\n",
            "Epoch 7/30\n",
            "100/100 [==============================] - 1s 11ms/step - loss: 0.0159 - accuracy: 0.9967 - val_loss: 0.5301 - val_accuracy: 0.8816\n",
            "Epoch 8/30\n",
            "100/100 [==============================] - 1s 12ms/step - loss: 0.0062 - accuracy: 0.9989 - val_loss: 0.6436 - val_accuracy: 0.8806\n",
            "Epoch 9/30\n",
            "100/100 [==============================] - 1s 9ms/step - loss: 0.0024 - accuracy: 0.9994 - val_loss: 0.7420 - val_accuracy: 0.8784\n",
            "Epoch 10/30\n",
            "100/100 [==============================] - 1s 8ms/step - loss: 0.0014 - accuracy: 0.9997 - val_loss: 0.8383 - val_accuracy: 0.8791\n",
            "Epoch 11/30\n",
            "100/100 [==============================] - 1s 8ms/step - loss: 6.1375e-04 - accuracy: 1.0000 - val_loss: 0.9553 - val_accuracy: 0.8774\n",
            "Epoch 12/30\n",
            "100/100 [==============================] - 1s 8ms/step - loss: 1.7659e-04 - accuracy: 0.9999 - val_loss: 1.0978 - val_accuracy: 0.8786\n",
            "Epoch 13/30\n",
            "100/100 [==============================] - 1s 8ms/step - loss: 2.2823e-05 - accuracy: 1.0000 - val_loss: 1.2019 - val_accuracy: 0.8737\n",
            "Epoch 14/30\n",
            "100/100 [==============================] - 1s 8ms/step - loss: 0.0016 - accuracy: 0.9998 - val_loss: 1.3109 - val_accuracy: 0.8780\n",
            "Epoch 15/30\n",
            "100/100 [==============================] - 1s 8ms/step - loss: 3.0502e-06 - accuracy: 1.0000 - val_loss: 1.3348 - val_accuracy: 0.8781\n",
            "Epoch 16/30\n",
            "100/100 [==============================] - 1s 8ms/step - loss: 1.5082e-06 - accuracy: 1.0000 - val_loss: 1.4577 - val_accuracy: 0.8784\n",
            "Epoch 17/30\n",
            "100/100 [==============================] - 1s 8ms/step - loss: 4.7911e-07 - accuracy: 1.0000 - val_loss: 1.5515 - val_accuracy: 0.8783\n",
            "Epoch 18/30\n",
            "100/100 [==============================] - 1s 9ms/step - loss: 1.9242e-07 - accuracy: 1.0000 - val_loss: 1.6153 - val_accuracy: 0.8791\n",
            "Epoch 19/30\n",
            "100/100 [==============================] - 1s 8ms/step - loss: 1.0335e-07 - accuracy: 1.0000 - val_loss: 1.6583 - val_accuracy: 0.8789\n",
            "Epoch 20/30\n",
            "100/100 [==============================] - 1s 8ms/step - loss: 6.3129e-08 - accuracy: 1.0000 - val_loss: 1.6911 - val_accuracy: 0.8789\n",
            "Epoch 21/30\n",
            "100/100 [==============================] - 1s 9ms/step - loss: 4.1560e-08 - accuracy: 1.0000 - val_loss: 1.7175 - val_accuracy: 0.8785\n",
            "Epoch 22/30\n",
            "100/100 [==============================] - 1s 11ms/step - loss: 2.9763e-08 - accuracy: 1.0000 - val_loss: 1.7403 - val_accuracy: 0.8789\n",
            "Epoch 23/30\n",
            "100/100 [==============================] - 1s 10ms/step - loss: 2.2548e-08 - accuracy: 1.0000 - val_loss: 1.7578 - val_accuracy: 0.8792\n",
            "Epoch 24/30\n",
            "100/100 [==============================] - 1s 8ms/step - loss: 1.7883e-08 - accuracy: 1.0000 - val_loss: 1.7719 - val_accuracy: 0.8790\n",
            "Epoch 25/30\n",
            "100/100 [==============================] - 1s 8ms/step - loss: 1.4722e-08 - accuracy: 1.0000 - val_loss: 1.7883 - val_accuracy: 0.8795\n",
            "Epoch 26/30\n",
            "100/100 [==============================] - 1s 8ms/step - loss: 1.2446e-08 - accuracy: 1.0000 - val_loss: 1.7983 - val_accuracy: 0.8791\n",
            "Epoch 27/30\n",
            "100/100 [==============================] - 1s 8ms/step - loss: 1.0784e-08 - accuracy: 1.0000 - val_loss: 1.8095 - val_accuracy: 0.8796\n",
            "Epoch 28/30\n",
            "100/100 [==============================] - 1s 7ms/step - loss: 9.4806e-09 - accuracy: 1.0000 - val_loss: 1.8187 - val_accuracy: 0.8792\n",
            "Epoch 29/30\n",
            "100/100 [==============================] - 1s 8ms/step - loss: 8.4398e-09 - accuracy: 1.0000 - val_loss: 1.8273 - val_accuracy: 0.8795\n",
            "Epoch 30/30\n",
            "100/100 [==============================] - 1s 9ms/step - loss: 7.6398e-09 - accuracy: 1.0000 - val_loss: 1.8351 - val_accuracy: 0.8795\n"
          ]
        }
      ],
      "source": [
        "history = network.fit(\n",
        "      imdb_train_text, imdb_train_labels,\n",
        "      steps_per_epoch=100,\n",
        "      epochs=30,\n",
        "      validation_split=0.2,\n",
        "      validation_steps=50)"
      ]
    },
    {
      "cell_type": "markdown",
      "metadata": {
        "id": "U1R-XCz-4gEN"
      },
      "source": [
        "### Our accuracy and loss\n",
        "Let's plot out both the training and validation accuracy and loss."
      ]
    },
    {
      "cell_type": "code",
      "execution_count": 20,
      "metadata": {
        "colab": {
          "base_uri": "https://localhost:8080/",
          "height": 887
        },
        "id": "x6oPJSbM4gW8",
        "outputId": "dc7e993f-f84b-4f0e-b4fb-cd5698bee14d"
      },
      "outputs": [
        {
          "output_type": "display_data",
          "data": {
            "text/plain": [
              "<Figure size 640x480 with 1 Axes>"
            ],
            "image/png": "[encoded data removed]"
          },
          "metadata": {}
        },
        {
          "output_type": "display_data",
          "data": {
            "text/plain": [
              "<Figure size 640x480 with 1 Axes>"
            ],
            "image/png": "[encoded data removed]"
          },
          "metadata": {}
        }
      ],
      "source": [
        "import matplotlib.pyplot as plt\n",
        "\n",
        "acc = history.history['accuracy']\n",
        "val_acc = history.history['val_accuracy']\n",
        "loss = history.history['loss']\n",
        "val_loss = history.history['val_loss']\n",
        "\n",
        "epochs = range(len(acc))\n",
        "\n",
        "plt.plot(epochs, acc, 'bo', label='Training acc')\n",
        "plt.plot(epochs, val_acc, 'b', label='Validation acc')\n",
        "plt.title('Training and validation accuracy')\n",
        "plt.legend()\n",
        "\n",
        "plt.figure()\n",
        "\n",
        "plt.plot(epochs, loss, 'bo', label='Training loss')\n",
        "plt.plot(epochs, val_loss, 'b', label='Validation loss')\n",
        "plt.title('Training and validation loss')\n",
        "plt.legend()\n",
        "\n",
        "plt.show()"
      ]
    },
    {
      "cell_type": "markdown",
      "metadata": {
        "id": "OiqOLIsJ5bg8"
      },
      "source": [
        "What is your interpretation of the plots?\n",
        "\n",
        ".\n",
        "\n",
        ".\n",
        "\n",
        ".\n",
        "\n",
        "\n",
        "Okay, that definitely looks like overfitting. We will examine ways of ameliorating overfitting shortly.  \n",
        "\n",
        "Let's see how our network performs on the test data"
      ]
    },
    {
      "cell_type": "code",
      "execution_count": 21,
      "metadata": {
        "colab": {
          "base_uri": "https://localhost:8080/"
        },
        "id": "Byb8BGdL8Xtr",
        "outputId": "19ee0118-7e6c-42fd-faf2-3889ecf46c6b"
      },
      "outputs": [
        {
          "output_type": "stream",
          "name": "stdout",
          "text": [
            "313/313 [==============================] - 1s 3ms/step - loss: 1.8039 - accuracy: 0.8743\n",
            "Accuracy:  0.8743000030517578\n"
          ]
        }
      ],
      "source": [
        "scoreSeg = network.evaluate(imdb_test_text, imdb_test_labels)\n",
        "print(\"Accuracy: \", scoreSeg[1])"
      ]
    },
    {
      "cell_type": "markdown",
      "metadata": {
        "id": "AaPCNeGgrTdF"
      },
      "source": [
        "Not bad for our first attempt at text classification!!!"
      ]
    },
    {
      "cell_type": "markdown",
      "metadata": {
        "id": "s3Y8Ck5hCfYk"
      },
      "source": [
        "![](https://raw.githubusercontent.com/zacharski/datamining-guide/master/labs/pics/torchdivide.png)\n",
        "\n",
        "\n",
        "# <font color='#EE4C2C'>Climate Change ...</font> \n",
        "\n",
        "\n",
        "\n",
        "![](https://raw.githubusercontent.com/zacharski/ml-class/master/labs/pics/factfake.jpeg)\n",
        "\n",
        "On Twitter there are people who deny climate change:\n",
        "\n",
        "> I don't know about you guys, but I think climate change is -- as Lord Monckton said -- bullsh*t\n",
        "\n",
        "and people who believe it is real:\n",
        "\n",
        "> Millennials, and Gen z, and all these folks that come after us, are looking up and we’re like ‘the world will end in 12 years if we don’t address climate change, and your biggest issue is how are we gonna pay for it?\n",
        "\n",
        "We are going to investigate the sentiment of tweets from the Twitter Climate Change Sentiment Dataset compiled by Edward Qian. The dataset consists of 43,943 tweets. Instead of a binary label (a positive sentiment on climate change or a negative, there are four possible labels:\n",
        "\n",
        "Label | Description\n",
        ":--- | :---- \n",
        "News | the tweet links to factual news about climate change\n",
        "Pro | the tweet supports the belief of man-made climate change\n",
        "Neutral |  the tweet neither supports nor refutes the belief of man-made climate change\n",
        "Anti | the tweet does not believe in man-made climate change\n",
        "\n",
        "\n",
        "![](https://raw.githubusercontent.com/zacharski/datamining-guide/master/labs/pics/PyDivideTwo.png)\n",
        "## <font color='#EE4C2C'>1. Load the data.</font> \n",
        "\n",
        "The file is \n",
        "\n",
        "https://raw.githubusercontent.com/zacharski/ml-class/master/data/climateSentiment.csv.zip\n",
        "\n",
        "You will need:\n",
        "\n",
        "* to load the file\n",
        "* convert the text of the tweet to a tf-idf representation. We will start with using the 5,000 most common words\n",
        "* convert the labels\n",
        "* divide into training and testing."
      ]
    },
    {
      "cell_type": "code",
      "source": [
        "!wget https://raw.githubusercontent.com/zacharski/ml-class/master/data/climateSentiment.csv.zip\n",
        "!unzip climateSentiment.csv.zip"
      ],
      "metadata": {
        "colab": {
          "base_uri": "https://localhost:8080/"
        },
        "id": "LBTeA5trXCQk",
        "outputId": "7d642100-d8f8-4d2e-e9d1-c978e2598691"
      },
      "execution_count": 22,
      "outputs": [
        {
          "output_type": "stream",
          "name": "stdout",
          "text": [
            "--2023-04-15 15:50:37--  https://raw.githubusercontent.com/zacharski/ml-class/master/data/climateSentiment.csv.zip\n",
            "Resolving raw.githubusercontent.com (raw.githubusercontent.com)... 185.199.108.133, 185.199.110.133, 185.199.109.133, ...\n",
            "Connecting to raw.githubusercontent.com (raw.githubusercontent.com)|185.199.108.133|:443... connected.\n",
            "HTTP request sent, awaiting response... 200 OK\n",
            "Length: 2589663 (2.5M) [application/zip]\n",
            "Saving to: ‘climateSentiment.csv.zip.2’\n",
            "\n",
            "climateSentiment.cs 100%[===================>]   2.47M  --.-KB/s    in 0.02s   \n",
            "\n",
            "2023-04-15 15:50:38 (109 MB/s) - ‘climateSentiment.csv.zip.2’ saved [2589663/2589663]\n",
            "\n",
            "Archive:  climateSentiment.csv.zip\n",
            "replace climate.csv? [y]es, [n]o, [A]ll, [N]one, [r]ename: N\n"
          ]
        }
      ]
    },
    {
      "cell_type": "code",
      "source": [
        "!ls -l"
      ],
      "metadata": {
        "colab": {
          "base_uri": "https://localhost:8080/"
        },
        "id": "As7VzQOyXXxk",
        "outputId": "6138b91c-e3b7-4ce5-9a28-9aca3d68b0f0"
      },
      "execution_count": 23,
      "outputs": [
        {
          "output_type": "stream",
          "name": "stdout",
          "text": [
            "total 156572\n",
            "-rw-r--r-- 1 root root  6641678 Oct 19 19:02 climate.csv\n",
            "-rw-r--r-- 1 root root  2589663 Apr 15 14:17 climateSentiment.csv.zip\n",
            "-rw-r--r-- 1 root root  2589663 Apr 15 14:41 climateSentiment.csv.zip.1\n",
            "-rw-r--r-- 1 root root  2589663 Apr 15 15:50 climateSentiment.csv.zip.2\n",
            "-rw-r--r-- 1 root root 66212309 Oct 31  2020 imdb.csv\n",
            "-rw-r--r-- 1 root root 26559010 Oct 31  2020 imdb.zip\n",
            "-rw-r--r-- 1 root root 26559010 Oct 31  2020 imdb.zip.1\n",
            "-rw-r--r-- 1 root root 26559010 Oct 31  2020 imdb.zip.2\n",
            "drwxr-xr-x 1 root root     4096 Apr 13 13:30 sample_data\n"
          ]
        }
      ]
    },
    {
      "cell_type": "code",
      "source": [
        "import pandas as pd\n",
        "data = pd.read_csv('climate.csv')\n",
        "data"
      ],
      "metadata": {
        "colab": {
          "base_uri": "https://localhost:8080/",
          "height": 424
        },
        "id": "rNzDopRBXfq9",
        "outputId": "dec08a4a-9635-4a1e-a999-d3acbd6bced8"
      },
      "execution_count": 24,
      "outputs": [
        {
          "output_type": "execute_result",
          "data": {
            "text/plain": [
              "      sentiment                                            message  \\\n",
              "0          Anti  @tiniebeany climate change is an interesting h...   \n",
              "1           Pro  RT @NatGeoChannel: Watch #BeforeTheFlood right...   \n",
              "2           Pro  Fabulous! Leonardo #DiCaprio's film on #climat...   \n",
              "3           Pro  RT @Mick_Fanning: Just watched this amazing do...   \n",
              "4          News  RT @cnalive: Pranita Biswasi, a Lutheran from ...   \n",
              "...         ...                                                ...   \n",
              "43938       Pro  Dear @realDonaldTrump,\\nYeah right. Human Medi...   \n",
              "43939       Pro  What will your respective parties do to preven...   \n",
              "43940      News  RT @MikkiL: UN Poll Shows Climate Change Is th...   \n",
              "43941   Neutral  RT @taehbeingextra: i still can$q$t believe th...   \n",
              "43942       Pro  @Likeabat77 @zachhaller \\n\\nThe wealthy + foss...   \n",
              "\n",
              "                  tweetid  \n",
              "0      792927353886371840  \n",
              "1      793124211518832641  \n",
              "2      793124402388832256  \n",
              "3      793124635873275904  \n",
              "4      793125156185137153  \n",
              "...                   ...  \n",
              "43938  791307031919550464  \n",
              "43939  791316857403936768  \n",
              "43940  791357509101621249  \n",
              "43941  791390042136641537  \n",
              "43942  791401610308038656  \n",
              "\n",
              "[43943 rows x 3 columns]"
            ],
            "text/html": [
              "\n",
              "  <div id=\"df-a8d9a26c-5c58-4285-a0f2-a0424cb3dd0d\">\n",
              "    <div class=\"colab-df-container\">\n",
              "      <div>\n",
              "<style scoped>\n",
              "    .dataframe tbody tr th:only-of-type {\n",
              "        vertical-align: middle;\n",
              "    }\n",
              "\n",
              "    .dataframe tbody tr th {\n",
              "        vertical-align: top;\n",
              "    }\n",
              "\n",
              "    .dataframe thead th {\n",
              "        text-align: right;\n",
              "    }\n",
              "</style>\n",
              "<table border=\"1\" class=\"dataframe\">\n",
              "  <thead>\n",
              "    <tr style=\"text-align: right;\">\n",
              "      <th></th>\n",
              "      <th>sentiment</th>\n",
              "      <th>message</th>\n",
              "      <th>tweetid</th>\n",
              "    </tr>\n",
              "  </thead>\n",
              "  <tbody>\n",
              "    <tr>\n",
              "      <th>0</th>\n",
              "      <td>Anti</td>\n",
              "      <td>@tiniebeany climate change is an interesting h...</td>\n",
              "      <td>792927353886371840</td>\n",
              "    </tr>\n",
              "    <tr>\n",
              "      <th>1</th>\n",
              "      <td>Pro</td>\n",
              "      <td>RT @NatGeoChannel: Watch #BeforeTheFlood right...</td>\n",
              "      <td>793124211518832641</td>\n",
              "    </tr>\n",
              "    <tr>\n",
              "      <th>2</th>\n",
              "      <td>Pro</td>\n",
              "      <td>Fabulous! Leonardo #DiCaprio's film on #climat...</td>\n",
              "      <td>793124402388832256</td>\n",
              "    </tr>\n",
              "    <tr>\n",
              "      <th>3</th>\n",
              "      <td>Pro</td>\n",
              "      <td>RT @Mick_Fanning: Just watched this amazing do...</td>\n",
              "      <td>793124635873275904</td>\n",
              "    </tr>\n",
              "    <tr>\n",
              "      <th>4</th>\n",
              "      <td>News</td>\n",
              "      <td>RT @cnalive: Pranita Biswasi, a Lutheran from ...</td>\n",
              "      <td>793125156185137153</td>\n",
              "    </tr>\n",
              "    <tr>\n",
              "      <th>...</th>\n",
              "      <td>...</td>\n",
              "      <td>...</td>\n",
              "      <td>...</td>\n",
              "    </tr>\n",
              "    <tr>\n",
              "      <th>43938</th>\n",
              "      <td>Pro</td>\n",
              "      <td>Dear @realDonaldTrump,\\nYeah right. Human Medi...</td>\n",
              "      <td>791307031919550464</td>\n",
              "    </tr>\n",
              "    <tr>\n",
              "      <th>43939</th>\n",
              "      <td>Pro</td>\n",
              "      <td>What will your respective parties do to preven...</td>\n",
              "      <td>791316857403936768</td>\n",
              "    </tr>\n",
              "    <tr>\n",
              "      <th>43940</th>\n",
              "      <td>News</td>\n",
              "      <td>RT @MikkiL: UN Poll Shows Climate Change Is th...</td>\n",
              "      <td>791357509101621249</td>\n",
              "    </tr>\n",
              "    <tr>\n",
              "      <th>43941</th>\n",
              "      <td>Neutral</td>\n",
              "      <td>RT @taehbeingextra: i still can$q$t believe th...</td>\n",
              "      <td>791390042136641537</td>\n",
              "    </tr>\n",
              "    <tr>\n",
              "      <th>43942</th>\n",
              "      <td>Pro</td>\n",
              "      <td>@Likeabat77 @zachhaller \\n\\nThe wealthy + foss...</td>\n",
              "      <td>791401610308038656</td>\n",
              "    </tr>\n",
              "  </tbody>\n",
              "</table>\n",
              "<p>43943 rows × 3 columns</p>\n",
              "</div>\n",
              "      <button class=\"colab-df-convert\" onclick=\"convertToInteractive('df-a8d9a26c-5c58-4285-a0f2-a0424cb3dd0d')\"\n",
              "              title=\"Convert this dataframe to an interactive table.\"\n",
              "              style=\"display:none;\">\n",
              "        \n",
              "  <svg xmlns=\"http://www.w3.org/2000/svg\" height=\"24px\"viewBox=\"0 0 24 24\"\n",
              "       width=\"24px\">\n",
              "    <path d=\"M0 0h24v24H0V0z\" fill=\"none\"/>\n",
              "    <path d=\"M18.56 5.44l.94 2.06.94-2.06 2.06-.94-2.06-.94-.94-2.06-.94 2.06-2.06.94zm-11 1L8.5 8.5l.94-2.06 2.06-.94-2.06-.94L8.5 2.5l-.94 2.06-2.06.94zm10 10l.94 2.06.94-2.06 2.06-.94-2.06-.94-.94-2.06-.94 2.06-2.06.94z\"/><path d=\"M17.41 7.96l-1.37-1.37c-.4-.4-.92-.59-1.43-.59-.52 0-1.04.2-1.43.59L10.3 9.45l-7.72 7.72c-.78.78-.78 2.05 0 2.83L4 21.41c.39.39.9.59 1.41.59.51 0 1.02-.2 1.41-.59l7.78-7.78 2.81-2.81c.8-.78.8-2.07 0-2.86zM5.41 20L4 18.59l7.72-7.72 1.47 1.35L5.41 20z\"/>\n",
              "  </svg>\n",
              "      </button>\n",
              "      \n",
              "  <style>\n",
              "    .colab-df-container {\n",
              "      display:flex;\n",
              "      flex-wrap:wrap;\n",
              "      gap: 12px;\n",
              "    }\n",
              "\n",
              "    .colab-df-convert {\n",
              "      background-color: #E8F0FE;\n",
              "      border: none;\n",
              "      border-radius: 50%;\n",
              "      cursor: pointer;\n",
              "      display: none;\n",
              "      fill: #1967D2;\n",
              "      height: 32px;\n",
              "      padding: 0 0 0 0;\n",
              "      width: 32px;\n",
              "    }\n",
              "\n",
              "    .colab-df-convert:hover {\n",
              "      background-color: #E2EBFA;\n",
              "      box-shadow: 0px 1px 2px rgba(60, 64, 67, 0.3), 0px 1px 3px 1px rgba(60, 64, 67, 0.15);\n",
              "      fill: #174EA6;\n",
              "    }\n",
              "\n",
              "    [theme=dark] .colab-df-convert {\n",
              "      background-color: #3B4455;\n",
              "      fill: #D2E3FC;\n",
              "    }\n",
              "\n",
              "    [theme=dark] .colab-df-convert:hover {\n",
              "      background-color: #434B5C;\n",
              "      box-shadow: 0px 1px 3px 1px rgba(0, 0, 0, 0.15);\n",
              "      filter: drop-shadow(0px 1px 2px rgba(0, 0, 0, 0.3));\n",
              "      fill: #FFFFFF;\n",
              "    }\n",
              "  </style>\n",
              "\n",
              "      <script>\n",
              "        const buttonEl =\n",
              "          document.querySelector('#df-a8d9a26c-5c58-4285-a0f2-a0424cb3dd0d button.colab-df-convert');\n",
              "        buttonEl.style.display =\n",
              "          google.colab.kernel.accessAllowed ? 'block' : 'none';\n",
              "\n",
              "        async function convertToInteractive(key) {\n",
              "          const element = document.querySelector('#df-a8d9a26c-5c58-4285-a0f2-a0424cb3dd0d');\n",
              "          const dataTable =\n",
              "            await google.colab.kernel.invokeFunction('convertToInteractive',\n",
              "                                                     [key], {});\n",
              "          if (!dataTable) return;\n",
              "\n",
              "          const docLinkHtml = 'Like what you see? Visit the ' +\n",
              "            '<a target=\"_blank\" href=https://colab.research.google.com/notebooks/data_table.ipynb>data table notebook</a>'\n",
              "            + ' to learn more about interactive tables.';\n",
              "          element.innerHTML = '';\n",
              "          dataTable['output_type'] = 'display_data';\n",
              "          await google.colab.output.renderOutput(dataTable, element);\n",
              "          const docLink = document.createElement('div');\n",
              "          docLink.innerHTML = docLinkHtml;\n",
              "          element.appendChild(docLink);\n",
              "        }\n",
              "      </script>\n",
              "    </div>\n",
              "  </div>\n",
              "  "
            ]
          },
          "metadata": {},
          "execution_count": 24
        }
      ]
    },
    {
      "cell_type": "code",
      "source": [
        "data_text = data.message\n",
        "#data_label = data.sentiment\n",
        "#data_label = data['sentiment'].apply(lambda x: 1 if x == 'Pro' else (0 if x == 'Anti' else (2 if x == 'Neutral' else 3)))\n",
        "data_label = data['sentiment'].apply(lambda x: 1 if x == 'Pro' else (0 if x == 'Anti' else (2 if x == 'Neutral' else 3)))\n",
        "data_label "
      ],
      "metadata": {
        "colab": {
          "base_uri": "https://localhost:8080/"
        },
        "id": "AxJSCwqHao5O",
        "outputId": "9820f317-ff0a-413f-e04a-b61d0fb38a69"
      },
      "execution_count": 36,
      "outputs": [
        {
          "output_type": "execute_result",
          "data": {
            "text/plain": [
              "0        0\n",
              "1        1\n",
              "2        1\n",
              "3        1\n",
              "4        3\n",
              "        ..\n",
              "43938    1\n",
              "43939    1\n",
              "43940    3\n",
              "43941    2\n",
              "43942    1\n",
              "Name: sentiment, Length: 43943, dtype: int64"
            ]
          },
          "metadata": {},
          "execution_count": 36
        }
      ]
    },
    {
      "cell_type": "code",
      "source": [
        "from keras.preprocessing.text import Tokenizer\n",
        "from keras.utils import to_categorical\n",
        "tokenizer = Tokenizer(num_words=5000)\n",
        "tokenizer.fit_on_texts(data_text)\n",
        "\n",
        "# Directly get the one-hot binary representations.\n",
        "# Note that other vectorization modes than one-hot encoding are supported!\n",
        "one_hot_results = tokenizer.texts_to_matrix(data_text, mode='tfidf')\n",
        "data_label_one_hot = to_categorical(data_label)\n",
        "# let's look at an example of an encoding ...\n",
        "print(one_hot_results[0])"
      ],
      "metadata": {
        "colab": {
          "base_uri": "https://localhost:8080/"
        },
        "id": "lfTOYn7mbnyS",
        "outputId": "3c8f7ecd-2a62-4e8a-f587-88621c6752be"
      },
      "execution_count": 37,
      "outputs": [
        {
          "output_type": "stream",
          "name": "stdout",
          "text": [
            "[0.         0.83715075 0.85454543 ... 0.         0.         0.        ]\n"
          ]
        }
      ]
    },
    {
      "cell_type": "code",
      "source": [
        "from sklearn.model_selection import train_test_split\n",
        "climate_train_text, climate_test_text, climate_train_labels, climate_test_labels = train_test_split(one_hot_results, data_label_one_hot, test_size = 0.2, random_state=42)\n",
        "climate_test_labels"
      ],
      "metadata": {
        "colab": {
          "base_uri": "https://localhost:8080/"
        },
        "id": "7SPP9mR-cdf6",
        "outputId": "855cb172-3e2e-4977-f028-c5a3a8a842f2"
      },
      "execution_count": 38,
      "outputs": [
        {
          "output_type": "execute_result",
          "data": {
            "text/plain": [
              "array([[0., 0., 1., 0.],\n",
              "       [0., 0., 0., 1.],\n",
              "       [0., 1., 0., 0.],\n",
              "       ...,\n",
              "       [0., 1., 0., 0.],\n",
              "       [0., 1., 0., 0.],\n",
              "       [0., 0., 0., 1.]], dtype=float32)"
            ]
          },
          "metadata": {},
          "execution_count": 38
        }
      ]
    },
    {
      "cell_type": "markdown",
      "metadata": {
        "id": "JzPe1NnLpeG3"
      },
      "source": [
        "![](https://raw.githubusercontent.com/zacharski/datamining-guide/master/labs/pics/PyDivideTwo.png)\n",
        "## <font color='#EE4C2C'>2. Create a deep learning densely connected network.</font> \n",
        "\n",
        "You can decide how many layers and how many nodes per layer. Keep in mind that for the imdb task the last layer was:\n",
        "\n",
        "```\n",
        "network.add(layers.Dense(1, activation='sigmoid'))\n",
        "```\n",
        "\n",
        "The `1` was selected because we only had a binary choice (positive or negative). `sigmoid` was also selected because we had a binary choice.  This will not be the same for this task. In the imdb example, we used the binary_crossentropy loss function because, again, we only had a binary choice.\n",
        "\n",
        "Create the network, compile it, and fit it to the data. "
      ]
    },
    {
      "cell_type": "code",
      "execution_count": 39,
      "metadata": {
        "id": "4_TOQQHKBKHG"
      },
      "outputs": [],
      "source": [
        "network = models.Sequential()\n",
        "network.add(layers.Dense(512, activation='relu', input_shape=(5000,)))\n",
        "network.add(layers.Dense(256, activation='relu'))\n",
        "network.add(layers.Dense(128, activation='relu'))\n",
        "network.add(layers.Dense(4, activation='softmax'))"
      ]
    },
    {
      "cell_type": "code",
      "execution_count": 40,
      "metadata": {
        "id": "g3MqPKtsEalS"
      },
      "outputs": [],
      "source": [
        "network.compile(optimizer=optimizers.RMSprop(learning_rate=1e-4),\n",
        "                loss='categorical_crossentropy',\n",
        "                metrics=['accuracy'])"
      ]
    },
    {
      "cell_type": "code",
      "execution_count": 41,
      "metadata": {
        "colab": {
          "base_uri": "https://localhost:8080/"
        },
        "id": "ob7PnaBgFB__",
        "outputId": "20ca5f3f-b3c1-4c46-b65c-3aa3d1e18020"
      },
      "outputs": [
        {
          "output_type": "stream",
          "name": "stdout",
          "text": [
            "Model: \"sequential_2\"\n",
            "_________________________________________________________________\n",
            " Layer (type)                Output Shape              Param #   \n",
            "=================================================================\n",
            " dense_8 (Dense)             (None, 512)               2560512   \n",
            "                                                                 \n",
            " dense_9 (Dense)             (None, 256)               131328    \n",
            "                                                                 \n",
            " dense_10 (Dense)            (None, 128)               32896     \n",
            "                                                                 \n",
            " dense_11 (Dense)            (None, 4)                 516       \n",
            "                                                                 \n",
            "=================================================================\n",
            "Total params: 2,725,252\n",
            "Trainable params: 2,725,252\n",
            "Non-trainable params: 0\n",
            "_________________________________________________________________\n"
          ]
        }
      ],
      "source": [
        "network.summary()"
      ]
    },
    {
      "cell_type": "markdown",
      "metadata": {
        "id": "cMNg3FIoqrEE"
      },
      "source": [
        "![](https://raw.githubusercontent.com/zacharski/datamining-guide/master/labs/pics/PyDivideTwo.png)\n",
        "## <font color='#EE4C2C'>2. Plot the accuracy and loss for both the training and validation sets.</font> \n",
        "\n",
        "Also, state in a few sentences what you see in the plots."
      ]
    },
    {
      "cell_type": "code",
      "source": [
        "history = network.fit(\n",
        "      climate_train_text, climate_train_labels,\n",
        "      steps_per_epoch=100,\n",
        "      epochs=30,\n",
        "      validation_split=0.2,\n",
        "      validation_steps=50)"
      ],
      "metadata": {
        "colab": {
          "base_uri": "https://localhost:8080/"
        },
        "id": "1Rtglx_alzcL",
        "outputId": "6e8debb7-944a-4415-9d1e-55c77ebac971"
      },
      "execution_count": 42,
      "outputs": [
        {
          "output_type": "stream",
          "name": "stdout",
          "text": [
            "Epoch 1/30\n",
            "100/100 [==============================] - 2s 14ms/step - loss: 1.0463 - accuracy: 0.5676 - val_loss: 0.8579 - val_accuracy: 0.6645\n",
            "Epoch 2/30\n",
            "100/100 [==============================] - 1s 9ms/step - loss: 0.7275 - accuracy: 0.7111 - val_loss: 0.7154 - val_accuracy: 0.7177\n",
            "Epoch 3/30\n",
            "100/100 [==============================] - 1s 10ms/step - loss: 0.5636 - accuracy: 0.7874 - val_loss: 0.6757 - val_accuracy: 0.7310\n",
            "Epoch 4/30\n",
            "100/100 [==============================] - 1s 8ms/step - loss: 0.4542 - accuracy: 0.8324 - val_loss: 0.6746 - val_accuracy: 0.7335\n",
            "Epoch 5/30\n",
            "100/100 [==============================] - 1s 8ms/step - loss: 0.3708 - accuracy: 0.8668 - val_loss: 0.6902 - val_accuracy: 0.7374\n",
            "Epoch 6/30\n",
            "100/100 [==============================] - 1s 10ms/step - loss: 0.3013 - accuracy: 0.8962 - val_loss: 0.7258 - val_accuracy: 0.7353\n",
            "Epoch 7/30\n",
            "100/100 [==============================] - 1s 8ms/step - loss: 0.2422 - accuracy: 0.9175 - val_loss: 0.7680 - val_accuracy: 0.7343\n",
            "Epoch 8/30\n",
            "100/100 [==============================] - 1s 9ms/step - loss: 0.1931 - accuracy: 0.9370 - val_loss: 0.8226 - val_accuracy: 0.7302\n",
            "Epoch 9/30\n",
            "100/100 [==============================] - 1s 8ms/step - loss: 0.1509 - accuracy: 0.9519 - val_loss: 0.8869 - val_accuracy: 0.7318\n",
            "Epoch 10/30\n",
            "100/100 [==============================] - 1s 11ms/step - loss: 0.1170 - accuracy: 0.9651 - val_loss: 0.9678 - val_accuracy: 0.7291\n",
            "Epoch 11/30\n",
            "100/100 [==============================] - 1s 11ms/step - loss: 0.0900 - accuracy: 0.9741 - val_loss: 1.0324 - val_accuracy: 0.7238\n",
            "Epoch 12/30\n",
            "100/100 [==============================] - 1s 11ms/step - loss: 0.0685 - accuracy: 0.9810 - val_loss: 1.1242 - val_accuracy: 0.7222\n",
            "Epoch 13/30\n",
            "100/100 [==============================] - 1s 10ms/step - loss: 0.0535 - accuracy: 0.9856 - val_loss: 1.2007 - val_accuracy: 0.7184\n",
            "Epoch 14/30\n",
            "100/100 [==============================] - 1s 9ms/step - loss: 0.0417 - accuracy: 0.9889 - val_loss: 1.2933 - val_accuracy: 0.7256\n",
            "Epoch 15/30\n",
            "100/100 [==============================] - 1s 8ms/step - loss: 0.0339 - accuracy: 0.9909 - val_loss: 1.3732 - val_accuracy: 0.7264\n",
            "Epoch 16/30\n",
            "100/100 [==============================] - 1s 8ms/step - loss: 0.0282 - accuracy: 0.9923 - val_loss: 1.4466 - val_accuracy: 0.7246\n",
            "Epoch 17/30\n",
            "100/100 [==============================] - 1s 9ms/step - loss: 0.0240 - accuracy: 0.9928 - val_loss: 1.5312 - val_accuracy: 0.7239\n",
            "Epoch 18/30\n",
            "100/100 [==============================] - 1s 10ms/step - loss: 0.0213 - accuracy: 0.9935 - val_loss: 1.5984 - val_accuracy: 0.7211\n",
            "Epoch 19/30\n",
            "100/100 [==============================] - 1s 9ms/step - loss: 0.0183 - accuracy: 0.9940 - val_loss: 1.6334 - val_accuracy: 0.7214\n",
            "Epoch 20/30\n",
            "100/100 [==============================] - 1s 10ms/step - loss: 0.0173 - accuracy: 0.9946 - val_loss: 1.6705 - val_accuracy: 0.7198\n",
            "Epoch 21/30\n",
            "100/100 [==============================] - 1s 8ms/step - loss: 0.0164 - accuracy: 0.9948 - val_loss: 1.7320 - val_accuracy: 0.7194\n",
            "Epoch 22/30\n",
            "100/100 [==============================] - 1s 8ms/step - loss: 0.0146 - accuracy: 0.9951 - val_loss: 1.7698 - val_accuracy: 0.7180\n",
            "Epoch 23/30\n",
            "100/100 [==============================] - 1s 11ms/step - loss: 0.0143 - accuracy: 0.9956 - val_loss: 1.8002 - val_accuracy: 0.7160\n",
            "Epoch 24/30\n",
            "100/100 [==============================] - 1s 11ms/step - loss: 0.0138 - accuracy: 0.9957 - val_loss: 1.8301 - val_accuracy: 0.7163\n",
            "Epoch 25/30\n",
            "100/100 [==============================] - 1s 12ms/step - loss: 0.0131 - accuracy: 0.9961 - val_loss: 1.8799 - val_accuracy: 0.7163\n",
            "Epoch 26/30\n",
            "100/100 [==============================] - 1s 9ms/step - loss: 0.0124 - accuracy: 0.9962 - val_loss: 1.9379 - val_accuracy: 0.7185\n",
            "Epoch 27/30\n",
            "100/100 [==============================] - 1s 10ms/step - loss: 0.0120 - accuracy: 0.9959 - val_loss: 1.9308 - val_accuracy: 0.7177\n",
            "Epoch 28/30\n",
            "100/100 [==============================] - 1s 8ms/step - loss: 0.0121 - accuracy: 0.9961 - val_loss: 1.9629 - val_accuracy: 0.7148\n",
            "Epoch 29/30\n",
            "100/100 [==============================] - 1s 8ms/step - loss: 0.0116 - accuracy: 0.9959 - val_loss: 1.9680 - val_accuracy: 0.7170\n",
            "Epoch 30/30\n",
            "100/100 [==============================] - 1s 9ms/step - loss: 0.0114 - accuracy: 0.9960 - val_loss: 1.9825 - val_accuracy: 0.7154\n"
          ]
        }
      ]
    },
    {
      "cell_type": "code",
      "source": [
        "import matplotlib.pyplot as plt\n",
        "\n",
        "acc = history.history['accuracy']\n",
        "val_acc = history.history['val_accuracy']\n",
        "loss = history.history['loss']\n",
        "val_loss = history.history['val_loss']\n",
        "\n",
        "epochs = range(len(acc))\n",
        "\n",
        "plt.plot(epochs, acc, 'bo', label='Training acc')\n",
        "plt.plot(epochs, val_acc, 'b', label='Validation acc')\n",
        "plt.title('Training and validation accuracy')\n",
        "plt.legend()\n",
        "\n",
        "plt.figure()\n",
        "\n",
        "plt.plot(epochs, loss, 'bo', label='Training loss')\n",
        "plt.plot(epochs, val_loss, 'b', label='Validation loss')\n",
        "plt.title('Training and validation loss')\n",
        "plt.legend()\n",
        "\n",
        "plt.show()"
      ],
      "metadata": {
        "id": "VKJjsdAZy5_N",
        "outputId": "1249c2c6-0cf0-4d42-c305-b628007c893e",
        "colab": {
          "base_uri": "https://localhost:8080/",
          "height": 887
        }
      },
      "execution_count": 43,
      "outputs": [
        {
          "output_type": "display_data",
          "data": {
            "text/plain": [
              "<Figure size 640x480 with 1 Axes>"
            ],
            "image/png": "[encoded data removed]"
          },
          "metadata": {}
        },
        {
          "output_type": "display_data",
          "data": {
            "text/plain": [
              "<Figure size 640x480 with 1 Axes>"
            ],
            "image/png": "[encoded data removed]"
          },
          "metadata": {}
        }
      ]
    },
    {
      "cell_type": "markdown",
      "metadata": {
        "id": "5qipxYocrmy6"
      },
      "source": [
        "![](https://raw.githubusercontent.com/zacharski/datamining-guide/master/labs/pics/PyDivideTwo.png)\n",
        "## <font color='#EE4C2C'>4. Accuracy on the test data</font> \n",
        "\n",
        "What is the accuracy on the test data?"
      ]
    },
    {
      "cell_type": "code",
      "execution_count": 44,
      "metadata": {
        "colab": {
          "base_uri": "https://localhost:8080/"
        },
        "id": "Kh9VDWCGFfGc",
        "outputId": "ff0aa59b-98bf-4e97-8488-e716f70292f2"
      },
      "outputs": [
        {
          "output_type": "stream",
          "name": "stdout",
          "text": [
            "275/275 [==============================] - 1s 3ms/step - loss: 2.0857 - accuracy: 0.7162\n",
            "Accuracy:  0.7162362337112427\n"
          ]
        }
      ],
      "source": [
        "scoreSeg = network.evaluate(climate_test_text, climate_test_labels)\n",
        "print(\"Accuracy: \", scoreSeg[1])"
      ]
    },
    {
      "cell_type": "markdown",
      "metadata": {
        "id": "f6sHJ2hEryR3"
      },
      "source": [
        "![](https://raw.githubusercontent.com/zacharski/datamining-guide/master/labs/pics/PyDivideTwo.png)\n",
        "## <font color='#EE4C2C'>5. Can you do better than the baseline accuracy? +5-10 xp</font> \n",
        "Can you create a network that has better accuracy than that shown in #4 above?\n",
        "\n",
        "You can change:\n",
        "\n",
        "* the number of layers, \n",
        "* the number of nodes in each layer\n",
        "* change the `num_words` used in the tokenizer\n",
        "* add one or more dropout layers\n"
      ]
    }
  ],
  "metadata": {
    "accelerator": "GPU",
    "colab": {
      "provenance": []
    },
    "kernelspec": {
      "display_name": "Python 3 (ipykernel)",
      "language": "python",
      "name": "python3"
    },
    "language_info": {
      "codemirror_mode": {
        "name": "ipython",
        "version": 3
      },
      "file_extension": ".py",
      "mimetype": "text/x-python",
      "name": "python",
      "nbconvert_exporter": "python",
      "pygments_lexer": "ipython3",
      "version": "3.9.12"
    }
  },
  "nbformat": 4,
  "nbformat_minor": 0
}