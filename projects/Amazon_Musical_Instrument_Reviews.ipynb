{
  "nbformat": 4,
  "nbformat_minor": 0,
  "metadata": {
    "colab": {
      "provenance": []
    },
    "kernelspec": {
      "name": "python3",
      "display_name": "Python 3"
    },
    "language_info": {
      "name": "python"
    },
    "gpuClass": "standard",
    "accelerator": "GPU"
  },
  "cells": [
    {
      "cell_type": "markdown",
      "source": [
        "# Amazon Musical Instrument Reviews"
      ],
      "metadata": {
        "id": "CbKfQGT2qqFZ"
      }
    },
    {
      "cell_type": "markdown",
      "source": [
        "I will first download the training and testing data and unzip the files."
      ],
      "metadata": {
        "id": "mFGzVg5XkGif"
      }
    },
    {
      "cell_type": "code",
      "source": [
        "!wget http://34.82.108.37/amazonReviewsTest.csv"
      ],
      "metadata": {
        "colab": {
          "base_uri": "https://localhost:8080/"
        },
        "id": "ouJnHLdikb4C",
        "outputId": "5cb4fd70-e4cb-4168-d6b7-1373a60666c6"
      },
      "execution_count": null,
      "outputs": [
        {
          "output_type": "stream",
          "name": "stdout",
          "text": [
            "--2023-04-28 07:43:27--  http://34.82.108.37/amazonReviewsTest.csv\n",
            "Connecting to 34.82.108.37:80... connected.\n",
            "HTTP request sent, awaiting response... 200 OK\n",
            "Length: 4240573 (4.0M) [application/octet-stream]\n",
            "Saving to: ‘amazonReviewsTest.csv.1’\n",
            "\n",
            "\ramazonReviewsTest.c   0%[                    ]       0  --.-KB/s               \ramazonReviewsTest.c 100%[===================>]   4.04M  --.-KB/s    in 0.03s   \n",
            "\n",
            "2023-04-28 07:43:27 (138 MB/s) - ‘amazonReviewsTest.csv.1’ saved [4240573/4240573]\n",
            "\n"
          ]
        }
      ]
    },
    {
      "cell_type": "code",
      "source": [
        "!wget http://34.82.108.37/amazonReviewsTrain.csv.zip"
      ],
      "metadata": {
        "colab": {
          "base_uri": "https://localhost:8080/"
        },
        "id": "pWW3YgJeksDG",
        "outputId": "21e79da7-7ba7-4e4f-a26c-b6fb049bdbe7"
      },
      "execution_count": null,
      "outputs": [
        {
          "output_type": "stream",
          "name": "stdout",
          "text": [
            "--2023-04-28 07:43:34--  http://34.82.108.37/amazonReviewsTrain.csv.zip\n",
            "Connecting to 34.82.108.37:80... connected.\n",
            "HTTP request sent, awaiting response... 200 OK\n",
            "Length: 39456705 (38M) [application/zip]\n",
            "Saving to: ‘amazonReviewsTrain.csv.zip.1’\n",
            "\n",
            "amazonReviewsTrain. 100%[===================>]  37.63M  91.9MB/s    in 0.4s    \n",
            "\n",
            "2023-04-28 07:43:34 (91.9 MB/s) - ‘amazonReviewsTrain.csv.zip.1’ saved [39456705/39456705]\n",
            "\n"
          ]
        }
      ]
    },
    {
      "cell_type": "code",
      "source": [
        "!unzip /content/amazonReviewsTrain.csv.zip"
      ],
      "metadata": {
        "colab": {
          "base_uri": "https://localhost:8080/"
        },
        "id": "h_PHR2QJkxIa",
        "outputId": "c5aa8ed6-c1aa-4ded-fe04-1f26c841aa2a"
      },
      "execution_count": null,
      "outputs": [
        {
          "output_type": "stream",
          "name": "stdout",
          "text": [
            "Archive:  /content/amazonReviewsTrain.csv.zip\n",
            "replace amazonReviewsTrain.csv? [y]es, [n]o, [A]ll, [N]one, [r]ename: "
          ]
        }
      ]
    },
    {
      "cell_type": "markdown",
      "source": [
        "I have an idea to classify the data using embedding so I will need to train and test on the reviewText and the rating columns. I will predict if a user had a positive, neutral, or negative rating."
      ],
      "metadata": {
        "id": "TaOkjbBhkVry"
      }
    },
    {
      "cell_type": "code",
      "source": [
        "import keras\n",
        "keras.__version__"
      ],
      "metadata": {
        "colab": {
          "base_uri": "https://localhost:8080/",
          "height": 35
        },
        "id": "TmKGw-aP7CCJ",
        "outputId": "2ddbe0b3-7bf2-4c46-b3e3-b659489aa702"
      },
      "execution_count": null,
      "outputs": [
        {
          "output_type": "execute_result",
          "data": {
            "text/plain": [
              "'2.12.0'"
            ],
            "application/vnd.google.colaboratory.intrinsic+json": {
              "type": "string"
            }
          },
          "metadata": {},
          "execution_count": 22
        }
      ]
    },
    {
      "cell_type": "markdown",
      "source": [
        "I will assign the data to variables with the training data having the reviewText and the ratings, while the test data only has the reviewText. We will predict the rating for the test data later."
      ],
      "metadata": {
        "id": "ldqKBgdhqiVK"
      }
    },
    {
      "cell_type": "code",
      "execution_count": null,
      "metadata": {
        "colab": {
          "base_uri": "https://localhost:8080/",
          "height": 459
        },
        "id": "SaYETVgYqotU",
        "outputId": "d76f7460-39bf-4c01-8d88-4980130996f0"
      },
      "outputs": [
        {
          "output_type": "stream",
          "name": "stderr",
          "text": [
            "<ipython-input-23-add5d44d87e1>:2: DtypeWarning: Columns (8) have mixed types. Specify dtype option on import or set low_memory=False.\n",
            "  train = pd.read_csv('amazonReviewsTrain.csv')\n"
          ]
        },
        {
          "output_type": "execute_result",
          "data": {
            "text/plain": [
              "                                               reviewText    rating\n",
              "0              Have 30 of these in operation great lights  positive\n",
              "1       Good replacement.  I prefer my Rovner L5, but ...  positive\n",
              "2       My son & band teacher loves it. Really nice. B...  positive\n",
              "3       This was a gift for a friend who is a fan of t...  positive\n",
              "4       Wish it would attach to my violin a little eas...  positive\n",
              "...                                                   ...       ...\n",
              "221387  Still hard to beat D'Addario. Hope they keep i...  positive\n",
              "221388  Ortofon hits the nail right on the head with t...  positive\n",
              "221389  This is my absolute favorite guitar strap amon...  positive\n",
              "221390                                               nice  positive\n",
              "221391  This polishing cloth is well-made and a great ...  positive\n",
              "\n",
              "[221392 rows x 2 columns]"
            ],
            "text/html": [
              "\n",
              "  <div id=\"df-d56129df-2ff9-49b7-aaca-ead0bc803fc2\">\n",
              "    <div class=\"colab-df-container\">\n",
              "      <div>\n",
              "<style scoped>\n",
              "    .dataframe tbody tr th:only-of-type {\n",
              "        vertical-align: middle;\n",
              "    }\n",
              "\n",
              "    .dataframe tbody tr th {\n",
              "        vertical-align: top;\n",
              "    }\n",
              "\n",
              "    .dataframe thead th {\n",
              "        text-align: right;\n",
              "    }\n",
              "</style>\n",
              "<table border=\"1\" class=\"dataframe\">\n",
              "  <thead>\n",
              "    <tr style=\"text-align: right;\">\n",
              "      <th></th>\n",
              "      <th>reviewText</th>\n",
              "      <th>rating</th>\n",
              "    </tr>\n",
              "  </thead>\n",
              "  <tbody>\n",
              "    <tr>\n",
              "      <th>0</th>\n",
              "      <td>Have 30 of these in operation great lights</td>\n",
              "      <td>positive</td>\n",
              "    </tr>\n",
              "    <tr>\n",
              "      <th>1</th>\n",
              "      <td>Good replacement.  I prefer my Rovner L5, but ...</td>\n",
              "      <td>positive</td>\n",
              "    </tr>\n",
              "    <tr>\n",
              "      <th>2</th>\n",
              "      <td>My son &amp; band teacher loves it. Really nice. B...</td>\n",
              "      <td>positive</td>\n",
              "    </tr>\n",
              "    <tr>\n",
              "      <th>3</th>\n",
              "      <td>This was a gift for a friend who is a fan of t...</td>\n",
              "      <td>positive</td>\n",
              "    </tr>\n",
              "    <tr>\n",
              "      <th>4</th>\n",
              "      <td>Wish it would attach to my violin a little eas...</td>\n",
              "      <td>positive</td>\n",
              "    </tr>\n",
              "    <tr>\n",
              "      <th>...</th>\n",
              "      <td>...</td>\n",
              "      <td>...</td>\n",
              "    </tr>\n",
              "    <tr>\n",
              "      <th>221387</th>\n",
              "      <td>Still hard to beat D'Addario. Hope they keep i...</td>\n",
              "      <td>positive</td>\n",
              "    </tr>\n",
              "    <tr>\n",
              "      <th>221388</th>\n",
              "      <td>Ortofon hits the nail right on the head with t...</td>\n",
              "      <td>positive</td>\n",
              "    </tr>\n",
              "    <tr>\n",
              "      <th>221389</th>\n",
              "      <td>This is my absolute favorite guitar strap amon...</td>\n",
              "      <td>positive</td>\n",
              "    </tr>\n",
              "    <tr>\n",
              "      <th>221390</th>\n",
              "      <td>nice</td>\n",
              "      <td>positive</td>\n",
              "    </tr>\n",
              "    <tr>\n",
              "      <th>221391</th>\n",
              "      <td>This polishing cloth is well-made and a great ...</td>\n",
              "      <td>positive</td>\n",
              "    </tr>\n",
              "  </tbody>\n",
              "</table>\n",
              "<p>221392 rows × 2 columns</p>\n",
              "</div>\n",
              "      <button class=\"colab-df-convert\" onclick=\"convertToInteractive('df-d56129df-2ff9-49b7-aaca-ead0bc803fc2')\"\n",
              "              title=\"Convert this dataframe to an interactive table.\"\n",
              "              style=\"display:none;\">\n",
              "        \n",
              "  <svg xmlns=\"http://www.w3.org/2000/svg\" height=\"24px\"viewBox=\"0 0 24 24\"\n",
              "       width=\"24px\">\n",
              "    <path d=\"M0 0h24v24H0V0z\" fill=\"none\"/>\n",
              "    <path d=\"M18.56 5.44l.94 2.06.94-2.06 2.06-.94-2.06-.94-.94-2.06-.94 2.06-2.06.94zm-11 1L8.5 8.5l.94-2.06 2.06-.94-2.06-.94L8.5 2.5l-.94 2.06-2.06.94zm10 10l.94 2.06.94-2.06 2.06-.94-2.06-.94-.94-2.06-.94 2.06-2.06.94z\"/><path d=\"M17.41 7.96l-1.37-1.37c-.4-.4-.92-.59-1.43-.59-.52 0-1.04.2-1.43.59L10.3 9.45l-7.72 7.72c-.78.78-.78 2.05 0 2.83L4 21.41c.39.39.9.59 1.41.59.51 0 1.02-.2 1.41-.59l7.78-7.78 2.81-2.81c.8-.78.8-2.07 0-2.86zM5.41 20L4 18.59l7.72-7.72 1.47 1.35L5.41 20z\"/>\n",
              "  </svg>\n",
              "      </button>\n",
              "      \n",
              "  <style>\n",
              "    .colab-df-container {\n",
              "      display:flex;\n",
              "      flex-wrap:wrap;\n",
              "      gap: 12px;\n",
              "    }\n",
              "\n",
              "    .colab-df-convert {\n",
              "      background-color: #E8F0FE;\n",
              "      border: none;\n",
              "      border-radius: 50%;\n",
              "      cursor: pointer;\n",
              "      display: none;\n",
              "      fill: #1967D2;\n",
              "      height: 32px;\n",
              "      padding: 0 0 0 0;\n",
              "      width: 32px;\n",
              "    }\n",
              "\n",
              "    .colab-df-convert:hover {\n",
              "      background-color: #E2EBFA;\n",
              "      box-shadow: 0px 1px 2px rgba(60, 64, 67, 0.3), 0px 1px 3px 1px rgba(60, 64, 67, 0.15);\n",
              "      fill: #174EA6;\n",
              "    }\n",
              "\n",
              "    [theme=dark] .colab-df-convert {\n",
              "      background-color: #3B4455;\n",
              "      fill: #D2E3FC;\n",
              "    }\n",
              "\n",
              "    [theme=dark] .colab-df-convert:hover {\n",
              "      background-color: #434B5C;\n",
              "      box-shadow: 0px 1px 3px 1px rgba(0, 0, 0, 0.15);\n",
              "      filter: drop-shadow(0px 1px 2px rgba(0, 0, 0, 0.3));\n",
              "      fill: #FFFFFF;\n",
              "    }\n",
              "  </style>\n",
              "\n",
              "      <script>\n",
              "        const buttonEl =\n",
              "          document.querySelector('#df-d56129df-2ff9-49b7-aaca-ead0bc803fc2 button.colab-df-convert');\n",
              "        buttonEl.style.display =\n",
              "          google.colab.kernel.accessAllowed ? 'block' : 'none';\n",
              "\n",
              "        async function convertToInteractive(key) {\n",
              "          const element = document.querySelector('#df-d56129df-2ff9-49b7-aaca-ead0bc803fc2');\n",
              "          const dataTable =\n",
              "            await google.colab.kernel.invokeFunction('convertToInteractive',\n",
              "                                                     [key], {});\n",
              "          if (!dataTable) return;\n",
              "\n",
              "          const docLinkHtml = 'Like what you see? Visit the ' +\n",
              "            '<a target=\"_blank\" href=https://colab.research.google.com/notebooks/data_table.ipynb>data table notebook</a>'\n",
              "            + ' to learn more about interactive tables.';\n",
              "          element.innerHTML = '';\n",
              "          dataTable['output_type'] = 'display_data';\n",
              "          await google.colab.output.renderOutput(dataTable, element);\n",
              "          const docLink = document.createElement('div');\n",
              "          docLink.innerHTML = docLinkHtml;\n",
              "          element.appendChild(docLink);\n",
              "        }\n",
              "      </script>\n",
              "    </div>\n",
              "  </div>\n",
              "  "
            ]
          },
          "metadata": {},
          "execution_count": 23
        }
      ],
      "source": [
        "import pandas as pd\n",
        "train = pd.read_csv('amazonReviewsTrain.csv')\n",
        "train = train[['reviewText', 'rating']]\n",
        "test = pd.read_csv('amazonReviewsTest.csv')\n",
        "test = test[['reviewText']]\n",
        "train"
      ]
    },
    {
      "cell_type": "markdown",
      "source": [
        "I need to make sure the reviewText is of type string and then I will change the ratings to integers to make predicting easier. I got an error about changing the type of the text so I will also make changes to the text in the test data for later use."
      ],
      "metadata": {
        "id": "3NLnQ7_8lc8M"
      }
    },
    {
      "cell_type": "code",
      "source": [
        "train.reviewText = train.reviewText.astype(str)\n",
        "train_text = train.reviewText\n",
        "test.reviewText = train.reviewText.astype(str)\n",
        "test_text = test.reviewText\n",
        "train_label = train.rating\n",
        "def condition(x):\n",
        "    if x=='positive':\n",
        "        return 2\n",
        "    elif x=='neutral':\n",
        "        return 1\n",
        "    else:\n",
        "        return 0\n",
        "train_label =  train['rating'].apply(condition)\n",
        "train_label"
      ],
      "metadata": {
        "colab": {
          "base_uri": "https://localhost:8080/"
        },
        "id": "HN0OjtFO5tlZ",
        "outputId": "08204309-07b0-4885-a943-fed6914f4ca4"
      },
      "execution_count": null,
      "outputs": [
        {
          "output_type": "execute_result",
          "data": {
            "text/plain": [
              "0         2\n",
              "1         2\n",
              "2         2\n",
              "3         2\n",
              "4         2\n",
              "         ..\n",
              "221387    2\n",
              "221388    2\n",
              "221389    2\n",
              "221390    2\n",
              "221391    2\n",
              "Name: rating, Length: 221392, dtype: int64"
            ]
          },
          "metadata": {},
          "execution_count": 24
        }
      ]
    },
    {
      "cell_type": "markdown",
      "source": [
        "I am going to use the top 20,000 most common words and cut the reviews after 100 words so that as much of the words in the review can be used and I can get more accurate predictions."
      ],
      "metadata": {
        "id": "UE6mwwwglux8"
      }
    },
    {
      "cell_type": "code",
      "source": [
        "from keras.preprocessing.text import Tokenizer\n",
        "tokenizer = Tokenizer(num_words = 20000)\n",
        "#build the word index\n",
        "tokenizer.fit_on_texts(train_text)\n",
        "# now convert the words to integers\n",
        "train_sequences = tokenizer.texts_to_sequences(train_text)\n",
        "#build the word index\n",
        "tokenizer.fit_on_texts(test_text)\n",
        "# now convert the words to integers\n",
        "test_sequences = tokenizer.texts_to_sequences(test_text)\n",
        "\n",
        "train_sequences[0]"
      ],
      "metadata": {
        "colab": {
          "base_uri": "https://localhost:8080/"
        },
        "id": "im3tYvir5vDu",
        "outputId": "078408f3-4406-4162-959d-db64cd2fe08b"
      },
      "execution_count": null,
      "outputs": [
        {
          "output_type": "execute_result",
          "data": {
            "text/plain": [
              "[18, 534, 9, 25, 13, 2199, 22, 570]"
            ]
          },
          "metadata": {},
          "execution_count": 34
        }
      ]
    },
    {
      "cell_type": "code",
      "source": [
        "from keras.utils import pad_sequences\n",
        "# Cut texts after this number of words \n",
        "# (among top max_features most common words)\n",
        "maxlen = 100\n",
        "\n",
        "# This turns our lists of integers\n",
        "# into a 2D integer tensor of shape `(samples, maxlen)`\n",
        "trainingNum = pad_sequences(train_sequences, maxlen=maxlen)\n",
        "testingNum = pad_sequences(test_sequences, maxlen=maxlen)\n",
        "\n",
        "trainingNum[0]"
      ],
      "metadata": {
        "colab": {
          "base_uri": "https://localhost:8080/"
        },
        "id": "23tQgBy6jQMP",
        "outputId": "2fba78e3-f8ae-4954-c8ee-d2a312886d2a"
      },
      "execution_count": null,
      "outputs": [
        {
          "output_type": "execute_result",
          "data": {
            "text/plain": [
              "array([   0,    0,    0,    0,    0,    0,    0,    0,    0,    0,    0,\n",
              "          0,    0,    0,    0,    0,    0,    0,    0,    0,    0,    0,\n",
              "          0,    0,    0,    0,    0,    0,    0,    0,    0,    0,    0,\n",
              "          0,    0,    0,    0,    0,    0,    0,    0,    0,    0,    0,\n",
              "          0,    0,    0,    0,    0,    0,    0,    0,    0,    0,    0,\n",
              "          0,    0,    0,    0,    0,    0,    0,    0,    0,    0,    0,\n",
              "          0,    0,    0,    0,    0,    0,    0,    0,    0,    0,    0,\n",
              "          0,    0,    0,    0,    0,    0,    0,    0,    0,    0,    0,\n",
              "          0,    0,    0,    0,   18,  534,    9,   25,   13, 2199,   22,\n",
              "        570], dtype=int32)"
            ]
          },
          "metadata": {},
          "execution_count": 35
        }
      ]
    },
    {
      "cell_type": "markdown",
      "source": [
        "Now I will split the training data into training and testing."
      ],
      "metadata": {
        "id": "jT__xXqemBiF"
      }
    },
    {
      "cell_type": "code",
      "source": [
        "from sklearn.model_selection import train_test_split\n",
        "train_features, test_features, train_labels, test_labels = train_test_split(trainingNum, train_label, test_size = 0.2, random_state=42)\n",
        "test_labels"
      ],
      "metadata": {
        "colab": {
          "base_uri": "https://localhost:8080/"
        },
        "id": "_bJ4etd6jTFO",
        "outputId": "773a6023-2137-4dcc-9b40-d2f4a9548587"
      },
      "execution_count": null,
      "outputs": [
        {
          "output_type": "execute_result",
          "data": {
            "text/plain": [
              "5028      0\n",
              "133605    2\n",
              "182161    2\n",
              "137498    2\n",
              "122233    1\n",
              "         ..\n",
              "45935     2\n",
              "5691      2\n",
              "83947     2\n",
              "214291    1\n",
              "8033      1\n",
              "Name: rating, Length: 44279, dtype: int64"
            ]
          },
          "metadata": {},
          "execution_count": 36
        }
      ]
    },
    {
      "cell_type": "markdown",
      "source": [
        "Since I am looking for more than 2 categories, I need to make my data categorical rather than binary."
      ],
      "metadata": {
        "id": "PsU_CPPmmSLb"
      }
    },
    {
      "cell_type": "code",
      "source": [
        "from keras.utils import to_categorical\n",
        "train_labels = to_categorical(train_labels)\n",
        "test_labels = to_categorical(test_labels)"
      ],
      "metadata": {
        "id": "QsRHUlPtkReu"
      },
      "execution_count": null,
      "outputs": []
    },
    {
      "cell_type": "markdown",
      "source": [
        "Here I will create a model with the embedding layer"
      ],
      "metadata": {
        "id": "qbEm-IxJmt-4"
      }
    },
    {
      "cell_type": "code",
      "source": [
        "from keras.models import Sequential\n",
        "from keras import optimizers\n",
        "from keras import layers\n",
        "from keras.layers import Flatten, Dense, Embedding\n",
        "\n",
        "vocabulary_size = 20000\n",
        "embedding_size = 100\n",
        "model = Sequential()\n",
        "# We specify the maximum input length to our Embedding layer\n",
        "# so we can later flatten the embedded inputs\n",
        "model.add(Embedding(vocabulary_size, embedding_size, input_length=maxlen))\n",
        "model.add(Flatten())\n",
        "model.add(Dense(3, activation='sigmoid'))\n",
        "\n",
        "model.compile(optimizer='rmsprop',\n",
        "                loss='categorical_crossentropy',\n",
        "                metrics=['accuracy'])\n",
        "model.summary()\n",
        "\n"
      ],
      "metadata": {
        "colab": {
          "base_uri": "https://localhost:8080/"
        },
        "id": "Lupcc4OnjVgQ",
        "outputId": "88534616-7136-402c-9f4c-8b52ab7aa0e2"
      },
      "execution_count": null,
      "outputs": [
        {
          "output_type": "stream",
          "name": "stdout",
          "text": [
            "Model: \"sequential_3\"\n",
            "_________________________________________________________________\n",
            " Layer (type)                Output Shape              Param #   \n",
            "=================================================================\n",
            " embedding_2 (Embedding)     (None, 100, 100)          2000000   \n",
            "                                                                 \n",
            " flatten_2 (Flatten)         (None, 10000)             0         \n",
            "                                                                 \n",
            " dense_2 (Dense)             (None, 3)                 30003     \n",
            "                                                                 \n",
            "=================================================================\n",
            "Total params: 2,030,003\n",
            "Trainable params: 2,030,003\n",
            "Non-trainable params: 0\n",
            "_________________________________________________________________\n"
          ]
        }
      ]
    },
    {
      "cell_type": "markdown",
      "source": [
        "The model now needs to be fit. I will use 15 epochs to get a decent accuracy while minimizing the time the system takes to run all the steps."
      ],
      "metadata": {
        "id": "camnmS9TmyP_"
      }
    },
    {
      "cell_type": "code",
      "source": [
        "history = model.fit(\n",
        "      train_features, train_labels,\n",
        "      steps_per_epoch=100,\n",
        "      epochs=5,\n",
        "      validation_split=0.2,\n",
        "      validation_steps=50)"
      ],
      "metadata": {
        "colab": {
          "base_uri": "https://localhost:8080/"
        },
        "id": "zZtaW0Dk5uz0",
        "outputId": "98740d27-7796-4b82-cd8a-9a2d153d9f15"
      },
      "execution_count": null,
      "outputs": [
        {
          "output_type": "stream",
          "name": "stdout",
          "text": [
            "Epoch 1/5\n",
            "100/100 [==============================] - 12s 117ms/step - loss: 0.4714 - accuracy: 0.8601 - val_loss: 0.4259 - val_accuracy: 0.8649\n",
            "Epoch 2/5\n",
            "100/100 [==============================] - 9s 94ms/step - loss: 0.3939 - accuracy: 0.8690 - val_loss: 0.3789 - val_accuracy: 0.8688\n",
            "Epoch 3/5\n",
            "100/100 [==============================] - 7s 66ms/step - loss: 0.3582 - accuracy: 0.8757 - val_loss: 0.3540 - val_accuracy: 0.8761\n",
            "Epoch 4/5\n",
            "100/100 [==============================] - 5s 46ms/step - loss: 0.3363 - accuracy: 0.8819 - val_loss: 0.3416 - val_accuracy: 0.8782\n",
            "Epoch 5/5\n",
            "100/100 [==============================] - 4s 42ms/step - loss: 0.3199 - accuracy: 0.8867 - val_loss: 0.3288 - val_accuracy: 0.8823\n"
          ]
        }
      ]
    },
    {
      "cell_type": "code",
      "source": [
        "import matplotlib.pyplot as plt\n",
        "\n",
        "acc = history.history['accuracy']\n",
        "val_acc = history.history['val_accuracy']\n",
        "loss = history.history['loss']\n",
        "val_loss = history.history['val_loss']\n",
        "\n",
        "epochs = range(1, len(acc) + 1)\n",
        "\n",
        "plt.plot(epochs, acc, 'bo', label='Training acc')\n",
        "plt.plot(epochs, val_acc, 'b', label='Validation acc')\n",
        "plt.title('Training and validation accuracy')\n",
        "plt.legend()\n",
        "\n",
        "plt.figure()\n",
        "\n",
        "plt.plot(epochs, loss, 'bo', label='Training loss')\n",
        "plt.plot(epochs, val_loss, 'b', label='Validation loss')\n",
        "plt.title('Training and validation loss')\n",
        "plt.legend()\n",
        "\n",
        "plt.show()"
      ],
      "metadata": {
        "colab": {
          "base_uri": "https://localhost:8080/",
          "height": 887
        },
        "id": "h73QkOmd5uxK",
        "outputId": "c56671b8-fccb-48c0-b233-29e14372697c"
      },
      "execution_count": null,
      "outputs": [
        {
          "output_type": "display_data",
          "data": {
            "text/plain": [
              "<Figure size 640x480 with 1 Axes>"
            ],
            "image/png": "[encoded data removed]"
          },
          "metadata": {}
        },
        {
          "output_type": "display_data",
          "data": {
            "text/plain": [
              "<Figure size 640x480 with 1 Axes>"
            ],
            "image/png": "[encoded data removed]"
          },
          "metadata": {}
        }
      ]
    },
    {
      "cell_type": "code",
      "source": [
        "test_loss, test_acc, = model.evaluate(test_features, test_labels)\n",
        "print(\"Accuracy %f    Loss: %f\" % (test_acc, test_loss))"
      ],
      "metadata": {
        "colab": {
          "base_uri": "https://localhost:8080/"
        },
        "id": "an-3malYjjXF",
        "outputId": "f8659024-b2ce-48f4-b97f-4c39c923494f"
      },
      "execution_count": null,
      "outputs": [
        {
          "output_type": "stream",
          "name": "stdout",
          "text": [
            "1384/1384 [==============================] - 3s 2ms/step - loss: 0.3236 - accuracy: 0.8847\n",
            "Accuracy 0.884731    Loss: 0.323589\n"
          ]
        }
      ]
    },
    {
      "cell_type": "markdown",
      "source": [
        "The accuracy is at 89% so now we will use this model to predict on our test data."
      ],
      "metadata": {
        "id": "TikHdJfqnIfg"
      }
    },
    {
      "cell_type": "code",
      "source": [
        "import numpy as np\n",
        "predictions = np.argmax(model.predict(testingNum), axis=-1)"
      ],
      "metadata": {
        "colab": {
          "base_uri": "https://localhost:8080/"
        },
        "id": "-rJHpmTchN7T",
        "outputId": "15e70c8c-25f6-4bf3-b821-64920650f07f"
      },
      "execution_count": null,
      "outputs": [
        {
          "output_type": "stream",
          "name": "stdout",
          "text": [
            "313/313 [==============================] - 0s 1ms/step\n"
          ]
        }
      ]
    },
    {
      "cell_type": "markdown",
      "source": [
        "Now that I have predicted on the test data and ensured that the model predicted the classes using argmax, I can revert the integers back to strings and write them to the amazonReviewsPredictions file."
      ],
      "metadata": {
        "id": "mvlv0WiLofbd"
      }
    },
    {
      "cell_type": "code",
      "source": [
        "with open('amazonReviewsPredictions.txt', 'w') as f:\n",
        "    for rating in predictions:\n",
        "        if rating == 0:\n",
        "            f.write('negative\\n')\n",
        "        elif rating == 1:\n",
        "            f.write('neutral\\n')\n",
        "        else:\n",
        "            f.write('positive\\n')"
      ],
      "metadata": {
        "id": "RDf5-o_9hXoy"
      },
      "execution_count": null,
      "outputs": []
    },
    {
      "cell_type": "markdown",
      "source": [
        "This function will make sure I have the data in the proper format."
      ],
      "metadata": {
        "id": "DNG2gJgYo5nn"
      }
    },
    {
      "cell_type": "code",
      "source": [
        "def test():\n",
        "  i = 0\n",
        "  answers = ['negative', 'neutral', 'positive']\n",
        "  with open('amazonReviewsPredictions.txt', 'r') as outfile:\n",
        "    lines = outfile.readlines()\n",
        "    for line in lines:\n",
        "        if line.strip() not in answers:\n",
        "          return(\"invalid entry line %i\" % (i))\n",
        "        i += 1\n",
        "    if i != 10000:\n",
        "      return (\"incorrect number of lines\")\n",
        "    else:\n",
        "      return (\"file looks ok\")\n",
        "test()"
      ],
      "metadata": {
        "colab": {
          "base_uri": "https://localhost:8080/",
          "height": 35
        },
        "id": "IfTGzBFXehDV",
        "outputId": "dc0c98e2-d229-461d-c23d-130c3f5035cb"
      },
      "execution_count": null,
      "outputs": [
        {
          "output_type": "execute_result",
          "data": {
            "text/plain": [
              "'file looks ok'"
            ],
            "application/vnd.google.colaboratory.intrinsic+json": {
              "type": "string"
            }
          },
          "metadata": {},
          "execution_count": 47
        }
      ]
    },
    {
      "cell_type": "code",
      "source": [],
      "metadata": {
        "id": "EjUiAOR-2kAG"
      },
      "execution_count": null,
      "outputs": []
    }
  ]
}