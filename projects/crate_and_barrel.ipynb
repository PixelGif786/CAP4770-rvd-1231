{
  "nbformat": 4,
  "nbformat_minor": 0,
  "metadata": {
    "colab": {
      "provenance": [],
      "private_outputs": true,
      "gpuType": "T4"
    },
    "kernelspec": {
      "name": "python3",
      "display_name": "Python 3"
    },
    "language_info": {
      "name": "python"
    },
    "accelerator": "GPU",
    "gpuClass": "standard"
  },
  "cells": [
    {
      "cell_type": "code",
      "execution_count": null,
      "metadata": {
        "id": "v1CPjmVAF8wq"
      },
      "outputs": [],
      "source": [
        "from google.colab import files\n",
        "data = files.upload() #load the train.csv file"
      ]
    },
    {
      "cell_type": "code",
      "source": [
        "import pandas as pd\n",
        "import io\n",
        "df = pd.read_csv(io.StringIO(data['train.csv'].decode('utf-8')))"
      ],
      "metadata": {
        "id": "0yeVIE8OG7ux"
      },
      "execution_count": null,
      "outputs": []
    },
    {
      "cell_type": "code",
      "source": [
        "df_features = df.drop('target', axis=1)\n",
        "df_labels = df['target']\n",
        "df_features"
      ],
      "metadata": {
        "id": "7ucr4T23jRK8"
      },
      "execution_count": null,
      "outputs": []
    },
    {
      "cell_type": "code",
      "source": [
        "from sklearn.preprocessing import OneHotEncoder\n",
        "enc = OneHotEncoder(handle_unknown='ignore')\n",
        "dfSparse = enc.fit_transform(df_features)\n",
        "dfSparse"
      ],
      "metadata": {
        "id": "C7xEzRkhjgm0"
      },
      "execution_count": null,
      "outputs": []
    },
    {
      "cell_type": "code",
      "source": [
        "from sklearn.model_selection import train_test_split\n",
        "from sklearn.preprocessing import LabelEncoder\n",
        "\n",
        "# encode the labels to numeric values\n",
        "le = LabelEncoder()\n",
        "df_labels = le.fit_transform(df_labels)\n",
        "df_train_features, df_test_features, df_train_labels, df_test_labels = train_test_split(dfSparse, df_labels, test_size = 0.7)\n",
        "df_train_features"
      ],
      "metadata": {
        "id": "qieICvR7kS-D"
      },
      "execution_count": null,
      "outputs": []
    },
    {
      "cell_type": "code",
      "source": [
        "from xgboost import XGBClassifier\n",
        "params = { \"n_estimators\": 300, 'tree_method':'gpu_hist', 'predictor':'gpu_predictor' }\n",
        "model = XGBClassifier(**params)\n",
        "model"
      ],
      "metadata": {
        "id": "_n_Dij2XlQQN"
      },
      "execution_count": null,
      "outputs": []
    },
    {
      "cell_type": "code",
      "source": [
        "model.fit(df_train_features, df_train_labels)"
      ],
      "metadata": {
        "id": "JTBJ9R8Rl8N_"
      },
      "execution_count": null,
      "outputs": []
    },
    {
      "cell_type": "code",
      "source": [
        "param_grid = {\n",
        "    'n_estimators': [50, 100, 150, 200],\n",
        "    'max_depth': [2, 4, 6, 8],\n",
        "    'learning_rate': [0.01, 0.1, 0.5],\n",
        "    'min_child_weight': [1, 5, 10],\n",
        "    'gamma': [0, 0.1, 0.5]\n",
        "}"
      ],
      "metadata": {
        "id": "dTx6uM8XnrKK"
      },
      "execution_count": null,
      "outputs": []
    },
    {
      "cell_type": "code",
      "source": [
        "from sklearn.model_selection import StratifiedKFold\n",
        "from sklearn.model_selection import RandomizedSearchCV\n",
        "param_comb = 5\n",
        "folds=5\n",
        "skf = StratifiedKFold(n_splits=folds, shuffle = True, random_state = 1001)\n",
        "random_search = RandomizedSearchCV(model, param_distributions=param_grid, n_iter=param_comb,  n_jobs=-1, \n",
        "                                   cv=skf.split(df_train_features,df_train_labels), verbose=3)"
      ],
      "metadata": {
        "id": "I24WUsgqppt_"
      },
      "execution_count": null,
      "outputs": []
    },
    {
      "cell_type": "code",
      "source": [
        "%%time \n",
        "grid_result = random_search.fit(df_train_features, df_train_labels)"
      ],
      "metadata": {
        "id": "dqMWxZXNp2nT"
      },
      "execution_count": null,
      "outputs": []
    },
    {
      "cell_type": "code",
      "source": [
        "random_search.best_params_"
      ],
      "metadata": {
        "id": "EPCNSnpf1hIG"
      },
      "execution_count": null,
      "outputs": []
    },
    {
      "cell_type": "code",
      "source": [
        "data1 = files.upload()\n",
        "test_features = pd.read_csv(io.StringIO(data1['test.csv'].decode('utf-8')))"
      ],
      "metadata": {
        "id": "5fXW-77_1swZ"
      },
      "execution_count": null,
      "outputs": []
    },
    {
      "cell_type": "code",
      "source": [
        "predictions = random_search.best_estimator_.predict(test_features)\n",
        "predictions = predictions[:43315]"
      ],
      "metadata": {
        "id": "BctxRGZsWB3H"
      },
      "execution_count": null,
      "outputs": []
    },
    {
      "cell_type": "code",
      "source": [
        "from sklearn.metrics import accuracy_score\n",
        "accuracy_score(df_test_labels, predictions)"
      ],
      "metadata": {
        "id": "8ER73uPpXEZp"
      },
      "execution_count": null,
      "outputs": []
    },
    {
      "cell_type": "markdown",
      "source": [
        "his code loads a CSV file containing data for training a machine learning model, preprocesses the data by encoding categorical features using One-Hot Encoding, splits the data into training and testing sets, fits an XGBoost classifier model to the training data, and performs hyperparameter tuning using RandomizedSearchCV to find the best combination of hyperparameters for the model. It then loads a separate CSV file containing the test data, uses the best model to predict the target variable for the test data, and computes the accuracy of the predictions against the true labels."
      ],
      "metadata": {
        "id": "QUxau09OZSH0"
      }
    }
  ]
}