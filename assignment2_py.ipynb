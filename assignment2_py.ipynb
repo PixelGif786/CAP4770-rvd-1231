{
  "nbformat": 4,
  "nbformat_minor": 0,
  "metadata": {
    "colab": {
      "provenance": [],
      "authorship_tag": "ABX9TyMFZiKa2B/JFytlkAjr/41p",
      "include_colab_link": true
    },
    "kernelspec": {
      "name": "python3",
      "display_name": "Python 3"
    },
    "language_info": {
      "name": "python"
    }
  },
  "cells": [
    {
      "cell_type": "markdown",
      "metadata": {
        "id": "view-in-github",
        "colab_type": "text"
      },
      "source": [
        "<a href=\"https://colab.research.google.com/github/PixelGif786/CAP4770-rvd-1231/blob/main/assignment2_py.ipynb\" target=\"_parent\"><img src=\"https://colab.research.google.com/assets/colab-badge.svg\" alt=\"Open In Colab\"/></a>"
      ]
    },
    {
      "cell_type": "code",
      "execution_count": null,
      "metadata": {
        "colab": {
          "base_uri": "https://localhost:8080/"
        },
        "id": "iDBv7_aQZID6",
        "outputId": "2045c5af-425f-4610-e0dc-eb69e0767179"
      },
      "outputs": [
        {
          "output_type": "stream",
          "name": "stdout",
          "text": [
            "Your age is  22\n",
            "[10, 20]\n",
            "20202066\n",
            "False\n",
            "True\n",
            "Conection established correctly\n"
          ]
        }
      ],
      "source": [
        "from socket import *\n",
        "class Assignment2():\n",
        "   #constructor\n",
        "   def __init__(self, year): #birthyear\n",
        "    self.year = year\n",
        "\n",
        "   def tellAge(self,currentYear):\n",
        "     self.currentYear=currentYear\n",
        "     print(\"Your age is \",self.currentYear-self.year)\n",
        "     self.age=self.currentYear-self.year \n",
        "  \n",
        "   def listAnniversaries(self):\n",
        "     list = []\n",
        "     i=10\n",
        "     while (True):\n",
        "      if i<=self.age:\n",
        "         list.append(i)\n",
        "      else:\n",
        "        break   \n",
        "      i=i+10\n",
        "     return list\n",
        "     \n",
        "   def modifyYear(self,n):\n",
        "       self.res =str(self.currentYear)\n",
        "       num1=str(self.res[:2])\n",
        "      #num2=str(self.res[-2:])\n",
        "       num3=\"\"\n",
        "       for i in range(0,len(self.res),2):\n",
        "         num3+= str(6)#str(self.res[i])\n",
        "       result=\"\"\n",
        "       for i in range(n):\n",
        "         result +=str(num1)\n",
        "       #for i in range(n):\n",
        "       #result +=str(num2)\n",
        "       for i in range(1):\n",
        "         result +=str(num3)\n",
        "       return result\n",
        "    \n",
        "   @staticmethod\n",
        "   def checkGoodString(string):\n",
        "     if len(string)<9:\n",
        "       return False\n",
        "\n",
        "     if string[0].islower() == False:\n",
        "       return False\n",
        "\n",
        "     _num_count = 0\n",
        "     for i in string:\n",
        "         if i.isdigit():\n",
        "            _num_count += 1 \n",
        "\n",
        "         if _num_count > 1:\n",
        "            return False\n",
        "\n",
        "     return True\n",
        "\n",
        "   def connectTcp(host, port):\n",
        "     try:\n",
        "         s = socket(AF_INET, SOCK_STREAM)\n",
        "         host_address = gethostbyname(host)\n",
        "         s.connect((host_address, port))\n",
        "         s.close\n",
        "         return True\n",
        "     except: \n",
        "       return False\n",
        "\n",
        "\n",
        "   \n",
        "\n",
        "\n",
        "a=Assignment2(2000)\n",
        "\n",
        "a.tellAge(2022)\n",
        "\n",
        "ret=a.listAnniversaries()\n",
        "\n",
        "print(ret)\n",
        "\n",
        "#2022 * 3 = [6],0[6]6\n",
        "print(a.modifyYear(3))\n",
        "\n",
        "ret=Assignment2.checkGoodString(\"f1obar0more\")\n",
        "print(ret)\n",
        "ret=Assignment2.checkGoodString(\"foobar0more\")\n",
        "print(ret)\n",
        "\n",
        "retval = Assignment2.connectTcp(\"www.google.com\",80)\n",
        "if retval:\n",
        "  print(\"Conection established correctly\")\n",
        "else:\n",
        "    print(\"Some error\")\n",
        "\n"
      ]
    }
  ]
}